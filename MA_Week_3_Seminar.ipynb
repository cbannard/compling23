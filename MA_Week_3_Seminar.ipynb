{
 "cells": [
  {
   "cell_type": "markdown",
   "id": "ada7675f",
   "metadata": {},
   "source": [
    "# LELA70331 Computational Linguistics Week 3"
   ]
  },
  {
   "cell_type": "markdown",
   "id": "59c58486",
   "metadata": {},
   "source": [
    "## Tokenisation and Morphology\n",
    "\n",
    "In this week's session we are going to look at a tool that is very useful in implementing the preprocessing tasks introduced in the lecture - regular expressions.\n"
   ]
  },
  {
   "cell_type": "markdown",
   "id": "3a659d6d",
   "metadata": {},
   "source": [
    "### Regular Expressions"
   ]
  },
  {
   "cell_type": "markdown",
   "id": "e8f6fcae",
   "metadata": {},
   "source": [
    "In the last session we used functions that belong to the datatype string to manipulate text. This week we are going to explore a much more powerful way of manipulating text - the regular expression. In order to do this we need to import the regular expressions library (https://docs.python.org/3/library/re.html):"
   ]
  },
  {
   "cell_type": "code",
   "execution_count": null,
   "id": "7b4e577d",
   "metadata": {},
   "outputs": [],
   "source": [
    "import re"
   ]
  },
  {
   "cell_type": "markdown",
   "id": "23259638",
   "metadata": {},
   "source": [
    "### re.findall()\n",
    "One very useful function in the re package is re.findall() - this searches for occurences of a pattern in a given string. It takes a regular expression to search for, between quotes, as its first argument and a string to search as its second argument. If it find matches, it returns them in a list:"
   ]
  },
  {
   "cell_type": "code",
   "execution_count": null,
   "id": "c2e719a5",
   "metadata": {},
   "outputs": [],
   "source": [
    "sentence=\"I like both dogs and cats\"\n",
    "re.findall(\"cats\", sentence)"
   ]
  },
  {
   "cell_type": "markdown",
   "id": "90e2559e",
   "metadata": {},
   "source": [
    "Exercise: Based on what you learned about in this weeks lecture rewrite this pattern so that it finds all of the things that the speaker likes:"
   ]
  },
  {
   "cell_type": "code",
   "execution_count": null,
   "id": "69a764a7",
   "metadata": {},
   "outputs": [],
   "source": [
    "re.findall(\"\", sentence)"
   ]
  },
  {
   "cell_type": "markdown",
   "id": "815b8799",
   "metadata": {},
   "source": [
    "For this new sentence write a pattern that detects all of the things that the speaker likes:"
   ]
  },
  {
   "cell_type": "code",
   "execution_count": null,
   "id": "45383a36",
   "metadata": {},
   "outputs": [],
   "source": [
    "sentence3=\"I like dogs, cats and rabbits\""
   ]
  },
  {
   "cell_type": "code",
   "execution_count": null,
   "id": "b1bf09ba",
   "metadata": {},
   "outputs": [],
   "source": [
    "re.findall(\"\", sentence3)"
   ]
  },
  {
   "cell_type": "markdown",
   "id": "8726769c",
   "metadata": {},
   "source": [
    "For this new sentence detect all past tense forms of verbs:"
   ]
  },
  {
   "cell_type": "code",
   "execution_count": null,
   "id": "1d57f1c6",
   "metadata": {},
   "outputs": [],
   "source": [
    "sentence4=\"I wanted some exercise so I walked to work today\""
   ]
  },
  {
   "cell_type": "code",
   "execution_count": null,
   "id": "85ef7420",
   "metadata": {},
   "outputs": [],
   "source": [
    "re.findall(\"\", sentence4)"
   ]
  },
  {
   "cell_type": "markdown",
   "id": "f6af4edd",
   "metadata": {},
   "source": [
    "Do the same for sentence 5:"
   ]
  },
  {
   "cell_type": "code",
   "execution_count": null,
   "id": "1938ec36",
   "metadata": {},
   "outputs": [],
   "source": [
    "sentence5=\"I wanted some exercise so I walked to work today and was tired afterwards\""
   ]
  },
  {
   "cell_type": "code",
   "execution_count": null,
   "id": "1e59d214",
   "metadata": {},
   "outputs": [],
   "source": [
    "re.findall(\"\", sentence5)"
   ]
  },
  {
   "cell_type": "markdown",
   "id": "dd639fea-ee32-420b-9dc9-3eeebaf760d8",
   "metadata": {},
   "source": [
    "New function: len() is a built-in Python function that tells use the length of various data types and structures including strings and lists: "
   ]
  },
  {
   "cell_type": "code",
   "execution_count": null,
   "id": "00965e09-5ce8-4d85-aaff-1aca7109ffb5",
   "metadata": {},
   "outputs": [],
   "source": [
    "len(sentence5)"
   ]
  },
  {
   "cell_type": "markdown",
   "id": "9ad4f2df-d489-4629-ad67-42e47f1a1bfb",
   "metadata": {},
   "source": [
    "Exercise: Use the len function together with findall in order to count occurences of words in sentence 5 that end in \"ed\"."
   ]
  },
  {
   "cell_type": "code",
   "execution_count": null,
   "id": "17da41e2-4214-4bb1-af18-cf0e2a48e6af",
   "metadata": {},
   "outputs": [],
   "source": []
  },
  {
   "cell_type": "markdown",
   "id": "559c5b61-2875-4c5e-805e-064b0e7311bb",
   "metadata": {},
   "source": [
    "### re.compile()"
   ]
  },
  {
   "cell_type": "markdown",
   "id": "3610cb9f-f6ea-4ab3-8ad9-59c225502a84",
   "metadata": {},
   "source": [
    "For patterns that we want to use again and again we can use the function re.compile(). This returns a re \"object\" that has all of the re functions. "
   ]
  },
  {
   "cell_type": "code",
   "execution_count": null,
   "id": "0a557eb5-5b56-4f90-9fde-f65e8e30200a",
   "metadata": {},
   "outputs": [],
   "source": [
    "past_tense = re.compile(\"ed\")\n",
    "print(past_tense.findall(sentence5))"
   ]
  },
  {
   "cell_type": "markdown",
   "id": "ba4d8356-c163-4392-bfaf-97630b7497fe",
   "metadata": {},
   "source": [
    "### re.sub()"
   ]
  },
  {
   "cell_type": "markdown",
   "id": "82c3dabf-a023-49f5-90fb-8709d218f78e",
   "metadata": {},
   "source": [
    "Another very useful function is re.sub. This finds all occurences of a given sequence and replaces it with a sequence provided:"
   ]
  },
  {
   "cell_type": "code",
   "execution_count": null,
   "id": "61b85ce6-e8cd-4eb3-904b-42c47c28a8b5",
   "metadata": {},
   "outputs": [],
   "source": [
    "print(re.sub('ed','ing',sentence5))"
   ]
  },
  {
   "cell_type": "markdown",
   "id": "6cfb84ae",
   "metadata": {},
   "source": [
    "For lots of applications of re.sub you will need to \"cascade\" substitutions - apply one substitution and take the output as input to the next as in the following command which turns \"I like both dogs and cats\" into \"I like  both lions and tigers\": "
   ]
  },
  {
   "cell_type": "code",
   "execution_count": null,
   "id": "b8a3edf7",
   "metadata": {},
   "outputs": [],
   "source": [
    "s2 = re.sub('dogs','lions',sentence)\n",
    "s3 = re.sub('cats','tigers',s2)\n",
    "print(s3)"
   ]
  },
  {
   "cell_type": "markdown",
   "id": "af9dfd45-d384-4e6e-ace8-56b54da6462e",
   "metadata": {},
   "source": [
    "Activity: Write a regular expression or series of regular expression to translate this first sentence of \"Crime and Punishment\" from past to present tense."
   ]
  },
  {
   "cell_type": "code",
   "execution_count": null,
   "id": "ff0974f6-9a71-48fb-9b7d-e8d6b70ab3e9",
   "metadata": {
    "scrolled": true
   },
   "outputs": [],
   "source": [
    "opening_sentence = \"On an exceptionally hot evening early in July a young man came out of the garret in which he lodged in S. Place and walked slowly, as though in hesitation, towards K. bridge.\"\n",
    "print(opening_sentence)"
   ]
  },
  {
   "cell_type": "code",
   "execution_count": null,
   "id": "34643730",
   "metadata": {},
   "outputs": [],
   "source": []
  },
  {
   "cell_type": "markdown",
   "id": "a1dbb833-d727-4406-b841-00f593e0a7e7",
   "metadata": {},
   "source": [
    "### Groups"
   ]
  },
  {
   "cell_type": "markdown",
   "id": "c2d91273-4d07-444b-b80b-9e1ab940241d",
   "metadata": {},
   "source": [
    "Grouping is a very powerful technique for picking out substrings from a string that matches a specified pattern. It is done using parentheses. The technically can be used to get a list of the substrings (technically a tuple which is like a list but immutable meaning that the element cannot be changed once created)."
   ]
  },
  {
   "cell_type": "code",
   "execution_count": null,
   "id": "c95a71b8-0d7e-4ece-99a2-5eace6b15e42",
   "metadata": {},
   "outputs": [],
   "source": [
    "re.findall(\"(.*)(s)\", \"cats\")"
   ]
  },
  {
   "cell_type": "markdown",
   "id": "7d20a12a",
   "metadata": {},
   "source": [
    "Exercise: In this example grouping has separated a single noun from the plural marking -s. Rewrite the pattern so that it finds and similarly separates all plural nouns in sentence 3: "
   ]
  },
  {
   "cell_type": "code",
   "execution_count": null,
   "id": "0594d6e9",
   "metadata": {},
   "outputs": [],
   "source": [
    "sentence3=\"I like dogs, cats and rabbits\""
   ]
  },
  {
   "cell_type": "code",
   "execution_count": null,
   "id": "598a18ad",
   "metadata": {},
   "outputs": [],
   "source": [
    "re.findall(\"(.*)(s)\", sentence3)"
   ]
  },
  {
   "cell_type": "markdown",
   "id": "cb456e43",
   "metadata": {},
   "source": []
  },
  {
   "cell_type": "markdown",
   "id": "6057638d",
   "metadata": {},
   "source": [
    "### Combining sub with groups\n",
    "The re.sub function and grouping become particularly powerful when they are combined. You can use parentheses to capture a particular substring within a pattern and then use it in your replacement string within sub. For example:\n"
   ]
  },
  {
   "cell_type": "code",
   "execution_count": null,
   "id": "91963cae",
   "metadata": {},
   "outputs": [],
   "source": [
    "opening_sentence = \"a young man came out of the garret in which he lodged in S. Place and walked slowly towards K. bridge.\""
   ]
  },
  {
   "cell_type": "code",
   "execution_count": null,
   "id": "c33d2ae2",
   "metadata": {},
   "outputs": [],
   "source": [
    "re.sub('([a-z]+)ed','is \\\\1ing',opening_sentence)"
   ]
  },
  {
   "cell_type": "markdown",
   "id": "fef174bd",
   "metadata": {},
   "source": [
    "Activity: Use sub combined with groups to convert the sentence \"man bites dog\" into \"dog bites man\""
   ]
  },
  {
   "cell_type": "code",
   "execution_count": null,
   "id": "af2a83d2",
   "metadata": {},
   "outputs": [],
   "source": [
    "sentence = \"man bites dog\"\n",
    "print(re.sub('','',sentence))"
   ]
  },
  {
   "cell_type": "markdown",
   "id": "8070f9e1",
   "metadata": {},
   "source": [
    "Activity: Use sub combined with groups to convert the sentence \"man strokes dog\" into \"dog is stroked by man\""
   ]
  },
  {
   "cell_type": "code",
   "execution_count": null,
   "id": "4c1588f9",
   "metadata": {},
   "outputs": [],
   "source": [
    "sentence = \"man strokes dog\"\n",
    "print(re.sub('','',sentence))"
   ]
  },
  {
   "cell_type": "markdown",
   "id": "f53a7a48",
   "metadata": {},
   "source": [
    "### re.split()\n",
    "In week 1 we learned to tokenise a string using the string function split. re also has a split function. re.split() takes a regular expression as a first argument (unless you have a precompiled pattern) and a string as second argument, and split the string into tokens divided by all substrings matched by the regular expression. \n",
    "Can you improve on the following tokeniser? (clue: you might need to add a re.sub statement and you will need to know about escaping special characters as explained below)\n"
   ]
  },
  {
   "cell_type": "code",
   "execution_count": null,
   "id": "5fc85b5c",
   "metadata": {},
   "outputs": [],
   "source": [
    "import re"
   ]
  },
  {
   "cell_type": "code",
   "execution_count": null,
   "id": "5543015b",
   "metadata": {},
   "outputs": [],
   "source": [
    "opening_sentence = \"On an exceptionally hot evening early in July a young man came out of the garret in which he lodged in S. Place and walked slowly, as though in hesitation, towards K. bridge.\"\n",
    "to_split_on_word = re.compile(\" \")\n",
    "opening_sentence_new = to_split_on_word.split(opening_sentence)\n",
    "print(opening_sentence_new)"
   ]
  },
  {
   "cell_type": "markdown",
   "id": "f508cffb",
   "metadata": {},
   "source": [
    "### Escaping special characters\n",
    "We have learned about a number of character that have a special meaning in regular expressions (periods, dollar signs etc). We might sometimes want to search for these characters in strings. To do this we can \"escape\" the character using a backslash() as follows:\n"
   ]
  },
  {
   "cell_type": "code",
   "execution_count": null,
   "id": "02871a24",
   "metadata": {},
   "outputs": [],
   "source": [
    "re.findall(\"\\.\",opening_sentence)"
   ]
  },
  {
   "cell_type": "markdown",
   "id": "9cb5bc5b",
   "metadata": {},
   "source": [
    "# Sentence Segmentation"
   ]
  },
  {
   "cell_type": "markdown",
   "id": "48df58a8",
   "metadata": {},
   "source": [
    "Above we split a sentence into words. However most texts that we want to process have more than one sentence, so we also need to segment text into sentences. We will work with the first chapter of Crime and Punishment again"
   ]
  },
  {
   "cell_type": "code",
   "execution_count": null,
   "id": "4a1dd2b7",
   "metadata": {},
   "outputs": [],
   "source": [
    "!wget https://www.gutenberg.org/files/2554/2554-0.txt \n",
    "f = open('2554-0.txt')\n",
    "raw = f.read()\n",
    "chapter_one = raw[5464:23725]\n",
    "chapter_one = re.sub('\\n',' ',chapter_one)"
   ]
  },
  {
   "cell_type": "markdown",
   "id": "b0f08861",
   "metadata": {},
   "source": [
    "Just as for segmenting sentences into words, we can segment texts into sentence using the re.split function. If you run the code below you will get a list of words. What pattern could we use to get a list of sentences?"
   ]
  },
  {
   "cell_type": "code",
   "execution_count": null,
   "id": "da8d3567",
   "metadata": {},
   "outputs": [],
   "source": [
    "to_split_on_sent = re.compile(\" \")\n",
    "C_and_P_sentences = to_split_on_sent.split(chapter_one)\n",
    "print(C_and_P_sentences)"
   ]
  },
  {
   "cell_type": "markdown",
   "id": "cbf5345f",
   "metadata": {},
   "source": [
    "If we combine sentence segmentation and tokenising we can split an input text into a list of sentences, each of which is itself a list of words. But to do this we will need to learn about another important aspect of Python - the \"for loop\""
   ]
  },
  {
   "cell_type": "markdown",
   "id": "91482388",
   "metadata": {},
   "source": [
    "# Iterating/for loops\n",
    "\n",
    "Humans reading texts do so one word and one sentence at a time. The same is often true for computers. This is most commonly performed using a \"for loop\". This can be straightforwardly implemented for lists. In the following code we iterate through the list printing each entry as we go. Note that the end=\"\" in the print statement tells it to end each printed token with a space rather than a new line which is the default."
   ]
  },
  {
   "cell_type": "code",
   "execution_count": null,
   "id": "60d2778d",
   "metadata": {},
   "outputs": [],
   "source": [
    "for word in opening_sentence_new:\n",
    "    print(word, end=\" \")"
   ]
  },
  {
   "cell_type": "markdown",
   "id": "89df10d5",
   "metadata": {},
   "source": [
    "You will notice that in the loop above the print statement is indented. We say that a statement that occurs within a loop is nested within that loop. Any statement that is nested inside another has to be indented in Python. The standard way to indent is to use 4 spaces, although you can also use a tab.\n",
    "\n",
    "Now we are able to loop/iterate through our sentences and tokenise each one in turn:"
   ]
  },
  {
   "cell_type": "code",
   "execution_count": null,
   "id": "3f8ec3d2",
   "metadata": {},
   "outputs": [],
   "source": [
    "C_and_P = [] # this creates an empty list into which we can add the tokenised sentences\n",
    "for sent in C_and_P_sentences:\n",
    "    C_and_P.append(to_split_on_word.split(sent))\n",
    "print(C_and_P)"
   ]
  }
 ],
 "metadata": {
  "colab": {
   "collapsed_sections": [],
   "name": "Week_3_Seminar.ipynb",
   "provenance": []
  },
  "kernelspec": {
   "display_name": "Python 3 (ipykernel)",
   "language": "python",
   "name": "python3"
  },
  "language_info": {
   "codemirror_mode": {
    "name": "ipython",
    "version": 3
   },
   "file_extension": ".py",
   "mimetype": "text/x-python",
   "name": "python",
   "nbconvert_exporter": "python",
   "pygments_lexer": "ipython3",
   "version": "3.10.10"
  }
 },
 "nbformat": 4,
 "nbformat_minor": 5
}
