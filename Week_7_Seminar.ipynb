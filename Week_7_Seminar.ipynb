{
  "cells": [
    {
      "cell_type": "markdown",
      "metadata": {
        "id": "ag1DD6P8qBVx"
      },
      "source": [
        "# LELA32051 Computational Linguistics Week 7\n",
        "\n",
        "This week we are going to take a look at dialogue systems - first at chatbots and then at task-based dialogue systems."
      ]
    },
    {
      "cell_type": "markdown",
      "metadata": {
        "id": "zPbNBNRU3soq"
      },
      "source": [
        "## Rule-based chatbot: Eliza"
      ]
    },
    {
      "cell_type": "markdown",
      "metadata": {
        "id": "EqApcwI73sor"
      },
      "source": [
        "As described in this week's lecture, Eliza is a chatbot that simulates a Rogerian therapist, making use of a set of rules in the form of regular expressions. At the heart of Eliza are the substitution function (re.sub in Python) and grouping. We'll start with a quick recap as to what these are.\n",
        "\n",
        "We need to import the Regular Expressions module in Python."
      ]
    },
    {
      "cell_type": "code",
      "execution_count": 1,
      "metadata": {
        "id": "s93lrLpm3sor"
      },
      "outputs": [],
      "source": [
        "import re"
      ]
    },
    {
      "cell_type": "markdown",
      "metadata": {
        "id": "Pk1wG59t3sos"
      },
      "source": [
        "This gives as access to the very useful function re.sub."
      ]
    },
    {
      "cell_type": "markdown",
      "metadata": {
        "tags": [],
        "id": "0otwKAex3sos"
      },
      "source": [
        "### re.sub()\n",
        "\n",
        "This finds all occurences of a given sequence and replaces it with a sequence provided:"
      ]
    },
    {
      "cell_type": "code",
      "execution_count": 2,
      "metadata": {
        "id": "mq4gmf-u3sot",
        "outputId": "7afb1922-ed1f-4d01-e92f-5f9644dec57f",
        "colab": {
          "base_uri": "https://localhost:8080/",
          "height": 35
        }
      },
      "outputs": [
        {
          "output_type": "execute_result",
          "data": {
            "text/plain": [
              "'walking'"
            ],
            "application/vnd.google.colaboratory.intrinsic+json": {
              "type": "string"
            }
          },
          "metadata": {},
          "execution_count": 2
        }
      ],
      "source": [
        "utt = 'walked'\n",
        "re.sub('ed','ing',utt)"
      ]
    },
    {
      "cell_type": "markdown",
      "metadata": {
        "id": "eXxTxkt53sot"
      },
      "source": [
        "### Groups\n",
        "\n",
        "Grouping is a very powerful technique for picking out substrings from a string that matches a specified pattern. Parentheses are used to indicate the start and end of the substring. It is very powerful when combined with substitution.\n",
        "\n",
        "You can use parentheses to capture a particular substring within a pattern and then use it in your replacement string within sub. For example:\n"
      ]
    },
    {
      "cell_type": "code",
      "execution_count": 3,
      "metadata": {
        "scrolled": true,
        "id": "d8d-MXoZ3sou",
        "outputId": "66ba9ecf-e021-4cc0-9df5-5d9f7ab99695",
        "colab": {
          "base_uri": "https://localhost:8080/",
          "height": 35
        }
      },
      "outputs": [
        {
          "output_type": "execute_result",
          "data": {
            "text/plain": [
              "'procrastinated'"
            ],
            "application/vnd.google.colaboratory.intrinsic+json": {
              "type": "string"
            }
          },
          "metadata": {},
          "execution_count": 3
        }
      ],
      "source": [
        "utt = \"procrastinating\"\n",
        "re.sub('([a-z]+)ing','\\\\1ed',utt)"
      ]
    },
    {
      "cell_type": "markdown",
      "metadata": {
        "id": "UxHCnYk43sov"
      },
      "source": [
        "## A very simple Elizabot\n",
        "\n",
        "The code below implements a very simple Eliza. The function respond takes an utterance as input and using re.sub to generate responses. The loop below the function creates a simple interface that takes user input and prints the response.\n",
        "\n",
        "We can extend Eliza's ability by adding additional rules."
      ]
    },
    {
      "cell_type": "code",
      "execution_count": 4,
      "metadata": {
        "id": "bFv8yrpylNuU"
      },
      "outputs": [],
      "source": [
        "def respond(utt):\n",
        "  utt = re.sub('hello my name is (.+)','hello \\\\1 how are you feeling today', utt)\n",
        "  return utt"
      ]
    },
    {
      "cell_type": "code",
      "execution_count": 5,
      "metadata": {
        "id": "dcIjRBRKlKfi",
        "outputId": "1bd2a457-f31b-4761-f6d6-8a7223fcb999",
        "colab": {
          "base_uri": "https://localhost:8080/"
        }
      },
      "outputs": [
        {
          "name": "stdout",
          "output_type": "stream",
          "text": [
            "> hello\n",
            "Can you rephrase that?\n",
            "> no\n",
            "Can you rephrase that?\n",
            "> goodbye\n"
          ]
        }
      ],
      "source": [
        "utt = \"\"\n",
        "while utt != 'goodbye':\n",
        "    utt = input('> ')\n",
        "    reply = respond(utt)\n",
        "    if reply != utt:\n",
        "        print(reply)\n",
        "    else:\n",
        "        if utt != \"goodbye\":\n",
        "            print(\"Can you rephrase that?\")"
      ]
    },
    {
      "cell_type": "markdown",
      "metadata": {
        "id": "YUEniCI2qK-X"
      },
      "source": [
        "### Activity\n",
        "\n",
        "Add patterns (using substitutions and grouping) to the respond function that will allow Eliza to conduct both of these conversations. Test your system by conducting the conversation with Eliza.\n",
        "\n",
        "User: hello my name is emma <br>\n",
        "Eliza: Hello emma my name is Eliza. How are you feeling today? <br>\n",
        "User: i am feeling very happy <br>\n",
        "Eliza: Do you often feel happy? <br>\n",
        "User: yes since I started my new job <br>\n",
        "Eliza: Can you tell me about starting your new job? <br>\n",
        "\n",
        "User: hello my name is john <br>\n",
        "Eliza: Hello john, my name is Eliza. How are you feeling today? <br>\n",
        "User: i am feeling pretty happy <br>\n",
        "Eliza: Do you often feel happy? <br>\n",
        "User: yes since I moved house <br>\n",
        "Eliza: Can you tell me about moving house? <br>"
      ]
    },
    {
      "cell_type": "markdown",
      "metadata": {
        "id": "N6DF6FOh3sow"
      },
      "source": [
        "### Reverse engineering the NLTK Eliza\n",
        "\n",
        "There have been many implementations of Eliza over the years. One version is built into the NLTK toolkit. This can be run as follows:\n"
      ]
    },
    {
      "cell_type": "code",
      "execution_count": 6,
      "metadata": {
        "id": "o1fqK44ethJ3"
      },
      "outputs": [],
      "source": [
        "import nltk"
      ]
    },
    {
      "cell_type": "code",
      "execution_count": 7,
      "metadata": {
        "id": "4yOeuTVotfQJ",
        "scrolled": true,
        "outputId": "a1c087a6-455f-49ce-f719-8acc9c898ab8",
        "colab": {
          "base_uri": "https://localhost:8080/"
        }
      },
      "outputs": [
        {
          "output_type": "stream",
          "name": "stdout",
          "text": [
            "Therapist\n",
            "---------\n",
            "Talk to the program by typing in plain English, using normal upper-\n",
            "and lower-case letters and punctuation.  Enter \"quit\" when done.\n",
            "========================================================================\n",
            "Hello.  How are you feeling today?\n",
            ">fine thanks\n",
            "How do you feel when you say that?\n",
            ">fine\n",
            "Very interesting.\n",
            ">quit\n",
            "Good-bye.\n"
          ]
        }
      ],
      "source": [
        "nltk.chat.eliza.demo()"
      ]
    },
    {
      "cell_type": "markdown",
      "metadata": {
        "id": "5nh04AqY3sox"
      },
      "source": [
        "Activity: Conduct a four-turn-each conversation of your own with the NLTK Eliza. Adds the substitution that you think Eliza is using to generate the responses to your own chatbot using the code below. Where you find Eliza's response to be lacking, update the substitution to give a better response."
      ]
    },
    {
      "cell_type": "code",
      "execution_count": 8,
      "metadata": {
        "tags": [],
        "id": "8ztFBkZj3soy"
      },
      "outputs": [],
      "source": [
        "def respond(utt):\n",
        "  utt = re.sub('hello my name is (.+)','hello \\\\1 how are you feeling today', utt)\n",
        "  return utt"
      ]
    },
    {
      "cell_type": "code",
      "execution_count": 9,
      "metadata": {
        "id": "Ftc0J9In3soy",
        "outputId": "9eb87480-bdd4-4a94-a624-b5d8116a69cf",
        "colab": {
          "base_uri": "https://localhost:8080/"
        }
      },
      "outputs": [
        {
          "name": "stdout",
          "output_type": "stream",
          "text": [
            "> goodbye\n"
          ]
        }
      ],
      "source": [
        "utt = \"\"\n",
        "while utt != 'goodbye':\n",
        "    utt = input('> ')\n",
        "    reply = respond(utt)\n",
        "    if reply != utt:\n",
        "        print(reply)\n",
        "    else:\n",
        "        if utt != \"goodbye\":\n",
        "            print(\"Can you rephrase that?\")"
      ]
    },
    {
      "cell_type": "markdown",
      "metadata": {
        "id": "TIDS4M25uKXP"
      },
      "source": [
        "## Corpus-based chatbots"
      ]
    },
    {
      "cell_type": "markdown",
      "metadata": {
        "id": "yIUnZjlxsUj1"
      },
      "source": [
        "Training and running a corpus-based chatbot takes more steps than we have time for today. If you want to have a go in your own time, then you will find a tutorial for doing so in Pytorch here:\n",
        "\n",
        "https://pytorch.org/tutorials/beginner/chatbot_tutorial.html\n",
        "\n",
        "There is a link at the top of the page to open the notebook in Colab.\n",
        "\n",
        "To run this in colab easily just put the following code block at the top and run it before working through the rest of the notebook."
      ]
    },
    {
      "cell_type": "code",
      "execution_count": 10,
      "metadata": {
        "id": "Kg6znOWd3so1",
        "outputId": "dcdee54e-9507-4e9e-81dc-bd354dba9e30",
        "colab": {
          "base_uri": "https://localhost:8080/"
        }
      },
      "outputs": [
        {
          "output_type": "stream",
          "name": "stdout",
          "text": [
            "--2023-11-09 14:53:28--  https://zissou.infosci.cornell.edu/convokit/datasets/movie-corpus/movie-corpus.zip\n",
            "Resolving zissou.infosci.cornell.edu (zissou.infosci.cornell.edu)... 128.253.51.179\n",
            "Connecting to zissou.infosci.cornell.edu (zissou.infosci.cornell.edu)|128.253.51.179|:443... connected.\n",
            "HTTP request sent, awaiting response... 200 OK\n",
            "Length: 40854701 (39M) [application/zip]\n",
            "Saving to: ‘movie-corpus.zip’\n",
            "\n",
            "movie-corpus.zip    100%[===================>]  38.96M   126MB/s    in 0.3s    \n",
            "\n",
            "2023-11-09 14:53:29 (126 MB/s) - ‘movie-corpus.zip’ saved [40854701/40854701]\n",
            "\n",
            "Archive:  movie-corpus.zip\n",
            "   creating: movie-corpus/\n",
            "  inflating: movie-corpus/utterances.jsonl  \n",
            "  inflating: movie-corpus/conversations.json  \n",
            "  inflating: movie-corpus/corpus.json  \n",
            "  inflating: movie-corpus/speakers.json  \n",
            "  inflating: movie-corpus/index.json  \n"
          ]
        }
      ],
      "source": [
        "! wget https://zissou.infosci.cornell.edu/convokit/datasets/movie-corpus/movie-corpus.zip\n",
        "! unzip movie-corpus.zip\n",
        "! mkdir data\n",
        "! mv movie-corpus data/"
      ]
    },
    {
      "cell_type": "markdown",
      "source": [
        "### Intent classification\n",
        "We are now going to at task-based dialogue systems and specifically the sub-task of intent classification (the focus of your coursework). You should write rules to uniquely and correctly identify each of the following utterances:"
      ],
      "metadata": {
        "id": "2WSo1COJHO-l"
      }
    },
    {
      "cell_type": "markdown",
      "source": [
        "PlayMusic: play the weather girls\n",
        "\n",
        "AddToPlaylist: add this to my italian film soundtrack playlist\n",
        "\n",
        "RateBook: give the restaurant guidebook 5 stars\n",
        "\n",
        "SearchScreeningEvent: find screenings of the book thief at around 7\n",
        "\n",
        "BookRestaurant: book me a table outside for 2 for dinner at the national theatre restaurant\n",
        "\n",
        "GetWeather: will it be warm enough to eat dinner outside at around 7 tonight\n",
        "\n",
        "SearchCreativeWork: find me songs films or books about restaurants\n",
        "\n",
        "Here is the function from your coursework notebook:"
      ],
      "metadata": {
        "id": "Dfwl8dEmHmfv"
      }
    },
    {
      "cell_type": "code",
      "source": [
        "import random\n",
        "\n",
        "def assign_intent(utt, verbose=False):\n",
        "  PlayMusic_Pattern = re.compile(\"play|music\")\n",
        "  AddToPlaylist_Pattern = re.compile(\"add|playlist\")\n",
        "  RateBook_Pattern = re.compile(\"rate|book\")\n",
        "  SearchScreeningEvent_Pattern = re.compile(\"screening\")\n",
        "  BookRestaurant_Pattern = re.compile(\"book|restaurant|food\")\n",
        "  GetWeather_Pattern = re.compile(\"get|weather\")\n",
        "  SearchCreativeWork_Pattern = re.compile(\"creative\")\n",
        "\n",
        "  weights = {}\n",
        "  weights['PlayMusic'] = len(re.findall(PlayMusic_Pattern,  utt))\n",
        "  weights['AddToPlaylist'] = len(re.findall(AddToPlaylist_Pattern,  utt))\n",
        "  weights['RateBook'] = len(re.findall(RateBook_Pattern,  utt))\n",
        "  weights['SearchScreeningEvent'] = len(re.findall(SearchScreeningEvent_Pattern,  utt))\n",
        "  weights['BookRestaurant'] = len(re.findall(BookRestaurant_Pattern,  utt))\n",
        "  weights['GetWeather'] = len(re.findall(GetWeather_Pattern,  utt))\n",
        "  weights['SearchCreativeWork'] = len(re.findall(SearchCreativeWork_Pattern,  utt))\n",
        "  if verbose:\n",
        "      print(weights)\n",
        "  if max(weights.values()) == 0:\n",
        "      return random.choice(list(weights.keys()))\n",
        "  else:\n",
        "      weights_as_list = list(weights.items())\n",
        "      random.shuffle(weights_as_list)\n",
        "      weights=dict(weights_as_list)\n",
        "      return max(weights, key=lambda key: weights[key])"
      ],
      "metadata": {
        "id": "N9RtO7-2Ht-U"
      },
      "execution_count": 11,
      "outputs": []
    },
    {
      "cell_type": "code",
      "source": [
        "example_inputs = ['play the weather girls','add this to my italian film soundtrack playlist','give the restaurant guidebook 5 stars','find screenings of the book thief at around 7','book me a table outside for 2 for dinner at the national theatre restaurant','will it be warm enough to eat dinner outside at around 7 tonight','find me songs films or books about restaurants']\n",
        "[print(str(assign_intent(utt)) + \" : \" + utt) for utt in example_inputs]"
      ],
      "metadata": {
        "id": "QwEtGrEWHs10",
        "outputId": "03522fcb-1fa3-4a12-9165-73a4cbe6a93e",
        "colab": {
          "base_uri": "https://localhost:8080/"
        }
      },
      "execution_count": 12,
      "outputs": [
        {
          "output_type": "stream",
          "name": "stdout",
          "text": [
            "PlayMusic : play the weather girls\n",
            "AddToPlaylist : add this to my italian film soundtrack playlist\n",
            "BookRestaurant : give the restaurant guidebook 5 stars\n",
            "RateBook : find screenings of the book thief at around 7\n",
            "BookRestaurant : book me a table outside for 2 for dinner at the national theatre restaurant\n",
            "SearchScreeningEvent : will it be warm enough to eat dinner outside at around 7 tonight\n",
            "BookRestaurant : find me songs films or books about restaurants\n"
          ]
        },
        {
          "output_type": "execute_result",
          "data": {
            "text/plain": [
              "[None, None, None, None, None, None, None]"
            ]
          },
          "metadata": {},
          "execution_count": 12
        }
      ]
    }
  ],
  "metadata": {
    "colab": {
      "name": "Week_7_Seminar.ipynb",
      "provenance": []
    },
    "kernelspec": {
      "display_name": "Python 3 (ipykernel)",
      "language": "python",
      "name": "python3"
    },
    "language_info": {
      "codemirror_mode": {
        "name": "ipython",
        "version": 3
      },
      "file_extension": ".py",
      "mimetype": "text/x-python",
      "name": "python",
      "nbconvert_exporter": "python",
      "pygments_lexer": "ipython3",
      "version": "3.9.12"
    }
  },
  "nbformat": 4,
  "nbformat_minor": 0
}