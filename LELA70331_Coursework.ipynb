{
  "cells": [
    {
      "cell_type": "markdown",
      "metadata": {
        "id": "S1TkziyV4x1w"
      },
      "source": [
        "# LELA70331 Coursework Assignment\n",
        "\n",
        "This document contains instructions, guidance and code for the coursework assignment for this module.\n",
        "\n",
        "The assignment focuses on the task of intent classification. You will hear about this in the lecture on dialogue systems. It is an important step in modern task-based dialogue systems - given a particular piece of input from the speaker, the system tries to determine what goal the speaker is trying to achieve, in order that it can then produce an appropriate response.\n",
        "\n",
        "Your task is to build a system that takes a transcribed user utterance as input and outputs one of seven different intents:\n",
        "\n",
        "'PlayMusic', e.g. \"play easy listening\" <br>\n",
        "'AddToPlaylist' e.g. \"please add this song to road trip\" <br>\n",
        "'RateBook' e.g. \"give this novel 5 stars\"  <br>\n",
        "'SearchScreeningEvent' e.g. \"give me a list of local movie times\"  <br>\n",
        "'BookRestaurant' e.g. \"i'd like a table for four at 7pm at Asti\"   <br>\n",
        "'GetWeather' e.g. \"what's it like outside\"  <br>\n",
        "'SearchCreativeWork' \"show me the new James Bond trailer\"  <br>\n",
        "\n",
        "You are going to evaluate the performance of this system using a test set of 700 user utterances.\n",
        "\n",
        "In order to create the system you have a training set of 700 utterances and a validation/development set of 700 utterances.\n",
        "\n",
        "This notebook contains code that you can use in the development of your system. Once you have created and evaluated your system, you are going to write a report of no more than 1500 words that describes and evaluates the task, the system and the experiments.\n",
        "\n",
        "A guide as to what should go in your report can be found [here]( https://www.dropbox.com/s/7u1yazkok6hmeth/Writing%20your%20Computational%20Linguistics%20Research%20Report%20-%20postgrad.docx?dl=0)\n",
        "\n",
        "Your report should be submitted via turnitin using the link on Blackboard. You should create a PDF of your notebook and add it as an appendix to your report (not included in word count).  This is just so that I can check what you have done if it isn't clear from your report. You will not be marked on the quality of any code you might include.\n",
        "\n",
        "Please feel free to ask any questions about any part of the coursework. So that my response can benefit everyone please do so using the Coursework Discussion board on Blackboard. You can find a link to this down the left of the module Blackboard page."
      ]
    },
    {
      "cell_type": "markdown",
      "metadata": {
        "id": "cZTKYPQXlkwp"
      },
      "source": [
        "## Preparation"
      ]
    },
    {
      "cell_type": "markdown",
      "metadata": {
        "id": "w9mhOx9Fo5O_"
      },
      "source": [
        "### Link drive\n",
        "\n",
        "Before you begin to build a system, there are a few steps necessary to set things up. The first of these is to link Colab to your Google Drive so that you can save files there."
      ]
    },
    {
      "cell_type": "code",
      "execution_count": 1,
      "metadata": {
        "id": "-FysoS88uoHa",
        "outputId": "affde899-765c-44e0-fec5-8310e343b238",
        "colab": {
          "base_uri": "https://localhost:8080/"
        }
      },
      "outputs": [
        {
          "output_type": "stream",
          "name": "stdout",
          "text": [
            "Mounted at /content/gdrive\n",
            "mkdir: cannot create directory ‘/content/gdrive/My Drive/Intent_Classification/’: File exists\n"
          ]
        }
      ],
      "source": [
        "from google.colab import drive\n",
        "drive.mount(\"/content/gdrive\")\n",
        "!mkdir /content/gdrive/My\\ Drive/Intent_Classification/"
      ]
    },
    {
      "cell_type": "markdown",
      "metadata": {
        "id": "vBlQGSqdhYEq"
      },
      "source": [
        "### Download data and some utilities\n",
        "\n",
        "The next step is to download the data and some supporting code for the project and move it over to the Google Drive."
      ]
    },
    {
      "cell_type": "code",
      "execution_count": 2,
      "metadata": {
        "id": "GTM-h_dLypXc",
        "outputId": "cf15f8af-cc6d-42da-a8e6-304a8bbbdb3e",
        "colab": {
          "base_uri": "https://localhost:8080/"
        }
      },
      "outputs": [
        {
          "output_type": "stream",
          "name": "stdout",
          "text": [
            "--2023-10-25 09:50:56--  https://raw.githubusercontent.com/cbannard/compling23/main/Intent_Classification/intent_classification_with_splits.csv\n",
            "Resolving raw.githubusercontent.com (raw.githubusercontent.com)... 185.199.108.133, 185.199.109.133, 185.199.110.133, ...\n",
            "Connecting to raw.githubusercontent.com (raw.githubusercontent.com)|185.199.108.133|:443... connected.\n",
            "HTTP request sent, awaiting response... 200 OK\n",
            "Length: 139084 (136K) [text/plain]\n",
            "Saving to: ‘intent_classification_with_splits.csv’\n",
            "\n",
            "\r          intent_cl   0%[                    ]       0  --.-KB/s               \rintent_classificati 100%[===================>] 135.82K  --.-KB/s    in 0.03s   \n",
            "\n",
            "2023-10-25 09:50:57 (4.38 MB/s) - ‘intent_classification_with_splits.csv’ saved [139084/139084]\n",
            "\n",
            "--2023-10-25 09:50:57--  https://raw.githubusercontent.com/cbannard/compling23/main/Intent_Classification/model.pth\n",
            "Resolving raw.githubusercontent.com (raw.githubusercontent.com)... 185.199.108.133, 185.199.109.133, 185.199.110.133, ...\n",
            "Connecting to raw.githubusercontent.com (raw.githubusercontent.com)|185.199.108.133|:443... connected.\n",
            "HTTP request sent, awaiting response... 200 OK\n",
            "Length: 2143 (2.1K) [application/octet-stream]\n",
            "Saving to: ‘model.pth’\n",
            "\n",
            "model.pth           100%[===================>]   2.09K  --.-KB/s    in 0s      \n",
            "\n",
            "2023-10-25 09:50:57 (25.4 MB/s) - ‘model.pth’ saved [2143/2143]\n",
            "\n",
            "--2023-10-25 09:50:57--  https://raw.githubusercontent.com/cbannard/compling23/main/Intent_Classification/nn_tools.py\n",
            "Resolving raw.githubusercontent.com (raw.githubusercontent.com)... 185.199.109.133, 185.199.111.133, 185.199.108.133, ...\n",
            "Connecting to raw.githubusercontent.com (raw.githubusercontent.com)|185.199.109.133|:443... connected.\n",
            "HTTP request sent, awaiting response... 200 OK\n",
            "Length: 12574 (12K) [text/plain]\n",
            "Saving to: ‘nn_tools.py’\n",
            "\n",
            "nn_tools.py         100%[===================>]  12.28K  --.-KB/s    in 0.001s  \n",
            "\n",
            "2023-10-25 09:50:57 (23.6 MB/s) - ‘nn_tools.py’ saved [12574/12574]\n",
            "\n",
            "--2023-10-25 09:50:57--  https://raw.githubusercontent.com/cbannard/compling23/main/Intent_Classification/nn_tools2.py\n",
            "Resolving raw.githubusercontent.com (raw.githubusercontent.com)... 185.199.108.133, 185.199.109.133, 185.199.110.133, ...\n",
            "Connecting to raw.githubusercontent.com (raw.githubusercontent.com)|185.199.108.133|:443... connected.\n",
            "HTTP request sent, awaiting response... 200 OK\n",
            "Length: 14989 (15K) [text/plain]\n",
            "Saving to: ‘nn_tools2.py’\n",
            "\n",
            "nn_tools2.py        100%[===================>]  14.64K  --.-KB/s    in 0s      \n",
            "\n",
            "2023-10-25 09:50:57 (39.3 MB/s) - ‘nn_tools2.py’ saved [14989/14989]\n",
            "\n",
            "--2023-10-25 09:50:57--  https://raw.githubusercontent.com/cbannard/compling23/main/Intent_Classification/vectorizer.json\n",
            "Resolving raw.githubusercontent.com (raw.githubusercontent.com)... 185.199.111.133, 185.199.108.133, 185.199.109.133, ...\n",
            "Connecting to raw.githubusercontent.com (raw.githubusercontent.com)|185.199.111.133|:443... connected.\n",
            "HTTP request sent, awaiting response... 200 OK\n",
            "Length: 756 [text/plain]\n",
            "Saving to: ‘vectorizer.json’\n",
            "\n",
            "vectorizer.json     100%[===================>]     756  --.-KB/s    in 0s      \n",
            "\n",
            "2023-10-25 09:50:57 (26.6 MB/s) - ‘vectorizer.json’ saved [756/756]\n",
            "\n"
          ]
        }
      ],
      "source": [
        "!wget https://raw.githubusercontent.com/cbannard/compling23/main/Intent_Classification/intent_classification_with_splits.csv\n",
        "!wget https://raw.githubusercontent.com/cbannard/compling23/main/Intent_Classification/model.pth\n",
        "!wget https://raw.githubusercontent.com/cbannard/compling23/main/Intent_Classification/nn_tools.py\n",
        "!wget https://raw.githubusercontent.com/cbannard/compling23/main/Intent_Classification/nn_tools2.py\n",
        "!wget https://raw.githubusercontent.com/cbannard/compling23/main/Intent_Classification/vectorizer.json"
      ]
    },
    {
      "cell_type": "markdown",
      "metadata": {
        "id": "omZSU3G3an8z"
      },
      "source": [
        "### Import packages\n",
        "\n",
        "Finally we need to import some packages to use later"
      ]
    },
    {
      "cell_type": "code",
      "execution_count": 3,
      "metadata": {
        "id": "hGm07r91HRN0"
      },
      "outputs": [],
      "source": [
        "from argparse import Namespace\n",
        "from collections import Counter\n",
        "import json\n",
        "import os\n",
        "import re\n",
        "import string\n",
        "import random\n",
        "\n",
        "import numpy as np\n",
        "import pandas as pd\n",
        "import torch\n",
        "import torch.nn as nn\n",
        "import torch.optim as optim\n",
        "import torch.nn.functional as F\n",
        "from torch.utils.data import Dataset, DataLoader\n",
        "from tqdm import tqdm_notebook\n",
        "from nn_tools import Vocabulary, IntentVectorizer, IntentDataset, IntentClassifier\n",
        "from nn_tools2 import *\n",
        "from sklearn.metrics import confusion_matrix\n",
        "\n"
      ]
    },
    {
      "cell_type": "markdown",
      "metadata": {
        "id": "Q5lUe_HTHAre"
      },
      "source": [
        "## Rule-based approach\n",
        "\n",
        "Your task here is to create a classifier using rules, in the form of regular expressions. I have provided you with the basic code for doing this. You will just need to edit the regular expressions in order to improve performance."
      ]
    },
    {
      "cell_type": "markdown",
      "metadata": {
        "id": "1zJle8ZcomM5"
      },
      "source": [
        "### Loading and inspecting project data\n",
        "A valuable first step in order to understand the task is to inspect the data in order to understand the different intents being detected.\n",
        "\n",
        "First you need to load the data:\n"
      ]
    },
    {
      "cell_type": "code",
      "execution_count": 4,
      "metadata": {
        "id": "oFqX30mBqOeS"
      },
      "outputs": [],
      "source": [
        "intent_data=pd.read_csv('intent_classification_with_splits.csv')"
      ]
    },
    {
      "cell_type": "markdown",
      "metadata": {
        "id": "2VKwiv3tzF-R"
      },
      "source": [
        "You can then examine example utterances for each of the intent types as follows."
      ]
    },
    {
      "cell_type": "markdown",
      "metadata": {
        "id": "YeWQDiVGmDrl"
      },
      "source": [
        "##### Play Music examples\n"
      ]
    },
    {
      "cell_type": "code",
      "execution_count": 5,
      "metadata": {
        "id": "bP0TJCpar3TM",
        "outputId": "31123c8b-ed60-4b97-84ea-6d93b8bf4209",
        "colab": {
          "base_uri": "https://localhost:8080/"
        }
      },
      "outputs": [
        {
          "output_type": "stream",
          "name": "stderr",
          "text": [
            "<ipython-input-5-99a90d4a3585>:2: UserWarning: Boolean Series key will be reindexed to match DataFrame index.\n",
            "  intent_data[intent_data[\"split\"] == \"train\"][intent_data[\"intent\"] == \"PlayMusic\"][\"text\"].head(10).tolist\n"
          ]
        },
        {
          "output_type": "execute_result",
          "data": {
            "text/plain": [
              "<bound method IndexOpsMixin.tolist of 0     listen to westbam alumb allergic on google music\n",
              "3                 play the song little robin redbreast\n",
              "6                  i want to listen to seventies music\n",
              "7                play a popular chant by brian epstein\n",
              "13        can you play me some eighties music by adele\n",
              "30        play the top-20 best chicane songs on deezer\n",
              "37                play playlist the realest down south\n",
              "43                             play a chant by mj cole\n",
              "51               play all of your toys by chris ledoux\n",
              "52               i want to hear a joel hastings melody\n",
              "Name: text, dtype: object>"
            ]
          },
          "metadata": {},
          "execution_count": 5
        }
      ],
      "source": [
        "pd.set_option('display.max_colwidth', None)\n",
        "intent_data[intent_data[\"split\"] == \"train\"][intent_data[\"intent\"] == \"PlayMusic\"][\"text\"].head(10).tolist"
      ]
    },
    {
      "cell_type": "markdown",
      "metadata": {
        "id": "E9MTykZ5qZo8"
      },
      "source": [
        "##### AddToPlaylist examples\n"
      ]
    },
    {
      "cell_type": "code",
      "execution_count": 6,
      "metadata": {
        "id": "9TXSUlg5nToK",
        "outputId": "d1806144-83d7-4eff-9fd9-9175f5846e74",
        "colab": {
          "base_uri": "https://localhost:8080/"
        }
      },
      "outputs": [
        {
          "output_type": "stream",
          "name": "stderr",
          "text": [
            "<ipython-input-6-ac5fe56b1c24>:2: UserWarning: Boolean Series key will be reindexed to match DataFrame index.\n",
            "  intent_data[intent_data[\"split\"] == \"train\"][intent_data[\"intent\"] == \"AddToPlaylist\"][\"text\"].head(10).tolist()\n"
          ]
        },
        {
          "output_type": "execute_result",
          "data": {
            "text/plain": [
              "['add step to me to the 50 clásicos playlist',\n",
              " 'please add iris dement to my playlist this is selena',\n",
              " 'add slimm cutta calhoun to my this is prince playlist',\n",
              " 'add to playlist confidence boost here comes santa claus',\n",
              " 'add another artist to the spotlight on country 2016 playlist',\n",
              " 'add sugarolly days to my list  your favorite slaughterhouse',\n",
              " 'add this track to my global funk',\n",
              " 'add manuelita to my indiespensables playlist',\n",
              " 'add this artist to gretchen s soul revived playlist',\n",
              " 'put this song on my playlist  in the name of blues']"
            ]
          },
          "metadata": {},
          "execution_count": 6
        }
      ],
      "source": [
        "pd.set_option('display.max_colwidth', None)\n",
        "intent_data[intent_data[\"split\"] == \"train\"][intent_data[\"intent\"] == \"AddToPlaylist\"][\"text\"].head(10).tolist()"
      ]
    },
    {
      "cell_type": "markdown",
      "metadata": {
        "id": "XBmwWhHXspEH"
      },
      "source": [
        "##### RateBook examples"
      ]
    },
    {
      "cell_type": "code",
      "execution_count": 7,
      "metadata": {
        "id": "w7La8pN-qm4y",
        "outputId": "8c7ad273-bed3-4f39-c073-4150af9d9187",
        "colab": {
          "base_uri": "https://localhost:8080/"
        }
      },
      "outputs": [
        {
          "output_type": "stream",
          "name": "stderr",
          "text": [
            "<ipython-input-7-789f5f704f38>:2: UserWarning: Boolean Series key will be reindexed to match DataFrame index.\n",
            "  intent_data[intent_data[\"split\"] == \"train\"][intent_data[\"intent\"] == \"RateBook\"][\"text\"].head(10).tolist()\n"
          ]
        },
        {
          "output_type": "execute_result",
          "data": {
            "text/plain": [
              "['i give this current textbook a rating value of 1 and a best rating of 6',\n",
              " 'rate this series a 5',\n",
              " 'give this novel 5 stars',\n",
              " 'i want to give this current textbook 4 points',\n",
              " 'rate this album a 1',\n",
              " 'rate in stars as a 6 for lord of the shadows which gets a four',\n",
              " 'rate my current book 1 out of 6',\n",
              " 'for the textbook  out of 6 possible i give the following one a 3',\n",
              " 'rate this book 0 out of 6',\n",
              " 'rate the current novel a 3']"
            ]
          },
          "metadata": {},
          "execution_count": 7
        }
      ],
      "source": [
        "pd.set_option('display.max_colwidth', None)\n",
        "intent_data[intent_data[\"split\"] == \"train\"][intent_data[\"intent\"] == \"RateBook\"][\"text\"].head(10).tolist()"
      ]
    },
    {
      "cell_type": "markdown",
      "metadata": {
        "id": "Mbun8erusuct"
      },
      "source": [
        "##### SearchScreeningEvent examples"
      ]
    },
    {
      "cell_type": "code",
      "execution_count": 8,
      "metadata": {
        "id": "7OOlHf-QqnCh",
        "outputId": "8ecafd92-d469-407a-c0a4-f7135f464246",
        "colab": {
          "base_uri": "https://localhost:8080/"
        }
      },
      "outputs": [
        {
          "output_type": "stream",
          "name": "stderr",
          "text": [
            "<ipython-input-8-b8e94c0178e1>:2: UserWarning: Boolean Series key will be reindexed to match DataFrame index.\n",
            "  intent_data[intent_data[\"split\"] == \"train\"][intent_data[\"intent\"] == \"SearchScreeningEvent\"][\"text\"].head(10).tolist()\n"
          ]
        },
        {
          "output_type": "execute_result",
          "data": {
            "text/plain": [
              "['find fish story',\n",
              " 'give me a list of movie times for films in the area',\n",
              " 'find a movie house showing cage without a key',\n",
              " 'find animated movies nearest at a movie house',\n",
              " 'find me showtimes for animated movies in the neighbourhood',\n",
              " 'find movie times',\n",
              " 'show movie schedules for douglas theatre company',\n",
              " 'let me see the movie schedule for seed of chucky',\n",
              " 'in the area find some films',\n",
              " 'what times will the young swordsman be showing at a local cinema']"
            ]
          },
          "metadata": {},
          "execution_count": 8
        }
      ],
      "source": [
        "pd.set_option('display.max_colwidth', None)\n",
        "intent_data[intent_data[\"split\"] == \"train\"][intent_data[\"intent\"] == \"SearchScreeningEvent\"][\"text\"].head(10).tolist()"
      ]
    },
    {
      "cell_type": "markdown",
      "metadata": {
        "id": "CiRtSmCWszDm"
      },
      "source": [
        "##### BookRestaurant examples"
      ]
    },
    {
      "cell_type": "code",
      "execution_count": 9,
      "metadata": {
        "id": "gW_cWhqDqnNN",
        "outputId": "95bafae8-5126-4297-8874-d7cfc80950df",
        "colab": {
          "base_uri": "https://localhost:8080/"
        }
      },
      "outputs": [
        {
          "output_type": "stream",
          "name": "stderr",
          "text": [
            "<ipython-input-9-e67137ffa432>:2: UserWarning: Boolean Series key will be reindexed to match DataFrame index.\n",
            "  intent_data[intent_data[\"split\"] == \"train\"][intent_data[\"intent\"] == \"BookRestaurant\"][\"text\"].head(10).tolist()\n"
          ]
        },
        {
          "output_type": "execute_result",
          "data": {
            "text/plain": [
              "['book a spot for 3 in mt',\n",
              " 'book a restaurant for eight people in six years',\n",
              " 'i need to book a restaurant in fork mountain  sc for valarie  mari and i',\n",
              " 'book a restaurant at sixteen o clock in sc',\n",
              " 'i d like to go to the popular bistro in oh',\n",
              " 'book a taverna that serves vichyssoise within walking distance in oh',\n",
              " 'book a brasserie for one',\n",
              " 'i want to book a restaurant not far from our college',\n",
              " 'i d like to go to the venetian theatre in gabon  party of seven',\n",
              " 'book a reservation for a pub with ma po tofu in moldova']"
            ]
          },
          "metadata": {},
          "execution_count": 9
        }
      ],
      "source": [
        "pd.set_option('display.max_colwidth', None)\n",
        "intent_data[intent_data[\"split\"] == \"train\"][intent_data[\"intent\"] == \"BookRestaurant\"][\"text\"].head(10).tolist()"
      ]
    },
    {
      "cell_type": "markdown",
      "metadata": {
        "id": "Z0gyT9tbs5Lc"
      },
      "source": [
        "##### GetWeather examples"
      ]
    },
    {
      "cell_type": "code",
      "execution_count": 10,
      "metadata": {
        "id": "xL_iKqhOqnWZ",
        "outputId": "0d6f9cef-837e-468f-ec1a-07717cc5e97c",
        "colab": {
          "base_uri": "https://localhost:8080/"
        }
      },
      "outputs": [
        {
          "output_type": "stream",
          "name": "stderr",
          "text": [
            "<ipython-input-10-81c0d18a3f60>:2: UserWarning: Boolean Series key will be reindexed to match DataFrame index.\n",
            "  intent_data[intent_data[\"split\"] == \"train\"][intent_data[\"intent\"] == \"GetWeather\"][\"text\"].head(10).tolist()\n"
          ]
        },
        {
          "output_type": "execute_result",
          "data": {
            "text/plain": [
              "['i need a forecast for jetmore  massachusetts in 1 hour and 1 second from now',\n",
              " 'please let me know the weather forcast of stanislaus national forest far in nine months',\n",
              " 'what s the weather in my current spot the day after tomorrow',\n",
              " 'what is the weather like in the city of frewen in the country of venezuela',\n",
              " 'will it be colder in ohio',\n",
              " 'what is the weather not far from upper klamath national wildlife refuge',\n",
              " 'will it storm in charles pinckney national historic site',\n",
              " 'is it supposed to rain nearby my current location at 0 o clock',\n",
              " 'what is the weather supposed to be like in new jersey three months from now',\n",
              " 'will it be warmer now in covenant life']"
            ]
          },
          "metadata": {},
          "execution_count": 10
        }
      ],
      "source": [
        "pd.set_option('display.max_colwidth', None)\n",
        "intent_data[intent_data[\"split\"] == \"train\"][intent_data[\"intent\"] == \"GetWeather\"][\"text\"].head(10).tolist()"
      ]
    },
    {
      "cell_type": "markdown",
      "metadata": {
        "id": "SkzIGFLAs8ix"
      },
      "source": [
        "##### SearchCreativeWork examples"
      ]
    },
    {
      "cell_type": "code",
      "execution_count": 11,
      "metadata": {
        "id": "g4p6LY4cqnet",
        "outputId": "a33a79d4-1855-4207-d758-b838c9ca18ec",
        "colab": {
          "base_uri": "https://localhost:8080/"
        }
      },
      "outputs": [
        {
          "output_type": "stream",
          "name": "stderr",
          "text": [
            "<ipython-input-11-60d6f95a99bb>:2: UserWarning: Boolean Series key will be reindexed to match DataFrame index.\n",
            "  intent_data[intent_data[\"split\"] == \"train\"][intent_data[\"intent\"] == \"SearchCreativeWork\"][\"text\"].head(10).tolist()\n"
          ]
        },
        {
          "output_type": "execute_result",
          "data": {
            "text/plain": [
              "['show me the picture creatures of light and darkness',\n",
              " 'search for the adventures of cookie & cream',\n",
              " 'play hell house song',\n",
              " 'i d like to see the show onion sportsdome',\n",
              " 'find a video game called victory march',\n",
              " 'find a novel called industry',\n",
              " 'please find the movie dancing girl',\n",
              " 'find resurrection of evil',\n",
              " 'find playstation官方杂志  a song',\n",
              " 'find young miss holmes']"
            ]
          },
          "metadata": {},
          "execution_count": 11
        }
      ],
      "source": [
        "pd.set_option('display.max_colwidth', None)\n",
        "intent_data[intent_data[\"split\"] == \"train\"][intent_data[\"intent\"] == \"SearchCreativeWork\"][\"text\"].head(10).tolist()"
      ]
    },
    {
      "cell_type": "markdown",
      "metadata": {
        "id": "tcCyWyTuzmCF"
      },
      "source": [
        "## Building a rule based classifier"
      ]
    },
    {
      "cell_type": "markdown",
      "metadata": {
        "id": "Ks4pXmXhMxSo"
      },
      "source": [
        "### Preprocessing\n",
        "\n",
        "To increase the generalisability of your system you can preprocess it to, for example, convert morphological variants to a single \"lemma\". You can do this by adding different substitution (re.sub) functions to the function below. The function as is stands doesn't do anything - you need to update the re.sub statements. This isn't an essential step as you can deal with variants in your patterns, but it will help to reduce redundancy in your classifier regular expressions which you may find helpful.\n"
      ]
    },
    {
      "cell_type": "code",
      "execution_count": 12,
      "metadata": {
        "id": "hN5S4nkZtg96"
      },
      "outputs": [],
      "source": [
        "def preprocess_utterance(utt):\n",
        "  utt = re.sub(\"\",\"\", utt)\n",
        "  utt = re.sub(\"\",\"\", utt)\n",
        "  return utt"
      ]
    },
    {
      "cell_type": "markdown",
      "metadata": {
        "id": "-haCPpLEzF-U"
      },
      "source": [
        "You can test whether you patterns are working as intented using the following code."
      ]
    },
    {
      "cell_type": "code",
      "execution_count": 13,
      "metadata": {
        "id": "cN1PE_VXzF-V",
        "outputId": "1fdec6bd-c8b7-43ff-a9c4-02758b55d55e",
        "colab": {
          "base_uri": "https://localhost:8080/"
        }
      },
      "outputs": [
        {
          "output_type": "stream",
          "name": "stdout",
          "text": [
            "Enter a utterance to test your preprocessing on: play jazz\n",
            "play jazz\n"
          ]
        }
      ],
      "source": [
        "test_input = input(\"Enter a utterance to test your preprocessing on: \")\n",
        "print(preprocess_utterance(test_input))"
      ]
    },
    {
      "cell_type": "markdown",
      "metadata": {
        "id": "mxiA0Zn4tMhQ"
      },
      "source": [
        "### Define patterns\n",
        "\n",
        "The function below takes an utterance as input and applies a series of regular expressions to identify the intent of the speaker. The regular expressions currently just looks for keywords taken from the intent name. You should update these patterns to be more appropriate and capture a wider range of utterances for each intent.\n",
        "\n",
        "Each time you update the code you will need to run the code cell in order to then use the function."
      ]
    },
    {
      "cell_type": "markdown",
      "metadata": {
        "id": "NZ0HamWjAzV_"
      },
      "source": [
        "The assign_intent function uses the re.findall function (see week 2) in order to make as many matches as possible with each pattern. The number of matches is then counted (using the len function) for each pattern. The intent with the largest number of matches is then returned as the predicted intent. Imagine for example that your patterns for PlayMusic and GetWeather were as follows: <br>\n",
        "PlayMusic_Pattern = re.compile(\"play|music\") <br>\n",
        "GetWeather_Pattern = re.compile(\"get|weather\") <br>\n",
        "while the input utterances was \"play the weather girls\".\n",
        "In this case the PlayMusic pattern would match twice (for play and music) while the GetWeather pattern would only match once. PlayMusic would be returned as the predicted intent. Where there is a tie a prediction is randomly sampled from among the tied intents."
      ]
    },
    {
      "cell_type": "code",
      "execution_count": 14,
      "metadata": {
        "id": "GTaIRW-x4Ezb"
      },
      "outputs": [],
      "source": [
        "def assign_intent(utt, verbose=False):\n",
        "  PlayMusic_Pattern = re.compile(\"play|music\")\n",
        "  AddToPlaylist_Pattern = re.compile(\"add|playlist\")\n",
        "  RateBook_Pattern = re.compile(\"rate|book\")\n",
        "  SearchScreeningEvent_Pattern = re.compile(\"screening\")\n",
        "  BookRestaurant_Pattern = re.compile(\"book|restaurant\")\n",
        "  GetWeather_Pattern = re.compile(\"get|weather\")\n",
        "  SearchCreativeWork_Pattern = re.compile(\"creative\")\n",
        "\n",
        "  weights = {}\n",
        "  weights['PlayMusic'] = len(re.findall(PlayMusic_Pattern,  utt))\n",
        "  weights['AddToPlaylist'] = len(re.findall(AddToPlaylist_Pattern,  utt))\n",
        "  weights['RateBook'] = len(re.findall(RateBook_Pattern,  utt))\n",
        "  weights['SearchScreeningEvent'] = len(re.findall(SearchScreeningEvent_Pattern,  utt))\n",
        "  weights['BookRestaurant'] = len(re.findall(BookRestaurant_Pattern,  utt))\n",
        "  weights['GetWeather'] = len(re.findall(GetWeather_Pattern,  utt))\n",
        "  weights['SearchCreativeWork'] = len(re.findall(SearchCreativeWork_Pattern,  utt))\n",
        "  if verbose:\n",
        "      print(weights)\n",
        "  if max(weights.values()) == 0:\n",
        "      return random.choice(list(weights.keys()))\n",
        "  else:\n",
        "      weights_as_list = list(weights.items())\n",
        "      random.shuffle(weights_as_list)\n",
        "      weights=dict(weights_as_list)\n",
        "      return max(weights, key=lambda key: weights[key])"
      ]
    },
    {
      "cell_type": "markdown",
      "metadata": {
        "id": "4cwzJHqDLokL"
      },
      "source": [
        "### Evaluation\n",
        "When you run this cell you will be asked to enter an utterance. When you press return the scores for each classification of your input will be printed. You can use this to check whether your preprocess_utterance and/or assign_intent functions are working as intended."
      ]
    },
    {
      "cell_type": "code",
      "execution_count": 15,
      "metadata": {
        "id": "WZqyRr_sIJvw",
        "outputId": "96d5ecc9-613f-4da9-e768-ef529d4a45be",
        "colab": {
          "base_uri": "https://localhost:8080/"
        }
      },
      "outputs": [
        {
          "output_type": "stream",
          "name": "stdout",
          "text": [
            "Enter a utterance to classify: play jazz\n",
            "{'PlayMusic': 1, 'AddToPlaylist': 0, 'RateBook': 0, 'SearchScreeningEvent': 0, 'BookRestaurant': 0, 'GetWeather': 0, 'SearchCreativeWork': 0}\n",
            "PlayMusic\n"
          ]
        }
      ],
      "source": [
        "new_input = input(\"Enter a utterance to classify: \")\n",
        "prediction = assign_intent(preprocess_utterance(new_input),verbose=True)\n",
        "print(prediction)"
      ]
    },
    {
      "cell_type": "markdown",
      "metadata": {
        "id": "lsec0kYpLh0s"
      },
      "source": [
        "In order to perform a stricter assessment of the performance of your classifier, you should examine its performance on the validation dataset. If you run the cell below you will be told the accuracy score on those 700 utterances."
      ]
    },
    {
      "cell_type": "code",
      "execution_count": 16,
      "metadata": {
        "id": "pCDozgVm2XnZ",
        "outputId": "f182db3e-3d56-47d4-c26d-a369c8cecc03",
        "colab": {
          "base_uri": "https://localhost:8080/"
        }
      },
      "outputs": [
        {
          "output_type": "stream",
          "name": "stdout",
          "text": [
            "0.5371428571428571\n"
          ]
        }
      ],
      "source": [
        "predicted = [assign_intent(preprocess_utterance(item)) for item in intent_data[intent_data['split'] == \"val\"]['text']]\n",
        "true = intent_data[intent_data['split'] == \"val\"]['intent']\n",
        "accuracy = (predicted == true).sum()/len(true)\n",
        "print(accuracy)"
      ]
    },
    {
      "cell_type": "markdown",
      "metadata": {
        "id": "xajHmMX33-oC"
      },
      "source": [
        "Running the next cell will give you a \"confusion matrix\". This tells you the number of times that each intent as given in the rows is classified (correctly or otherwise) as each intent as represented by the columns. The columns are displayed as numbers but you can check which each of these numbers stands for by looking into the parentheses after each intent in the rows.\n",
        "\n",
        "Studying this will give you an idea of where the classifier might be going wrong, and therefore of how you might update your patterns."
      ]
    },
    {
      "cell_type": "code",
      "execution_count": 17,
      "metadata": {
        "id": "j1t-etZ3L7iS",
        "outputId": "a8ddba1b-1316-4f2a-a497-98e12715f906",
        "colab": {
          "base_uri": "https://localhost:8080/"
        }
      },
      "outputs": [
        {
          "output_type": "stream",
          "name": "stdout",
          "text": [
            "                           0   1   2   3   4   5   6\n",
            "AddToPlaylist (0)         92   3   5   0   7  16   8\n",
            "BookRestaurant (1)         0  53  11   5   9   4  10\n",
            "GetWeather (2)             1   1  52   2   7  22  16\n",
            "PlayMusic (3)              5   2   9  90   4  13  34\n",
            "RateBook (4)               0  38   8   1  63  17  14\n",
            "SearchCreativeWork (5)     0   1   9   1   5  17   9\n",
            "SearchScreeningEvent (6)   2   2   6   1   5  11   9\n"
          ]
        }
      ],
      "source": [
        "print(pd.DataFrame(confusion_matrix(predicted, true), index=[\"AddToPlaylist (0)\", \"BookRestaurant (1)\", \"GetWeather (2)\", \"PlayMusic (3)\", \"RateBook (4)\", \"SearchCreativeWork (5)\", \"SearchScreeningEvent (6)\"]))"
      ]
    },
    {
      "cell_type": "markdown",
      "metadata": {
        "id": "xV9Py45v2HdG"
      },
      "source": [
        "Once you are happy that you have defined the best patterns that you can, you should evaluate the performance of your classifier on the test data (a set of 700 utterances that you haven't looked at). The accuracy printed is what you should include in your report."
      ]
    },
    {
      "cell_type": "code",
      "execution_count": 18,
      "metadata": {
        "id": "Z3DqHjOs02yk",
        "outputId": "8d6aaada-b269-401a-865e-017859289339",
        "colab": {
          "base_uri": "https://localhost:8080/"
        }
      },
      "outputs": [
        {
          "output_type": "stream",
          "name": "stdout",
          "text": [
            "0.5357142857142857\n"
          ]
        }
      ],
      "source": [
        "predicted = [assign_intent(preprocess_utterance(item)) for item in intent_data[intent_data['split'] == \"test\"]['text']]\n",
        "true = intent_data[intent_data['split'] == \"test\"]['intent']\n",
        "accuracy = (predicted == true).sum()/len(true)\n",
        "print(accuracy)"
      ]
    },
    {
      "cell_type": "markdown",
      "metadata": {
        "id": "YvH8ufhD5fzd"
      },
      "source": [
        "You can also generate a confusion matrix for the test data and use this in the discussion of the results in your write up."
      ]
    },
    {
      "cell_type": "code",
      "execution_count": 19,
      "metadata": {
        "id": "ODBNlsOQ5fEf",
        "outputId": "53919c0b-0131-4111-a30a-54b7fb66f4d1",
        "colab": {
          "base_uri": "https://localhost:8080/"
        }
      },
      "outputs": [
        {
          "output_type": "stream",
          "name": "stdout",
          "text": [
            "                            0   1   2   3   4   5   6\n",
            "AddToPlaylist (0)         110   6  13   2   1  16   6\n",
            "BookRestaurant (1)          1  47   5   0   6   6  14\n",
            "GetWeather (2)              2   4  50   4   3  14  16\n",
            "PlayMusic (3)              10   2  14  77   6  24  41\n",
            "RateBook (4)                0  27  10   0  58  13   7\n",
            "SearchCreativeWork (5)      1   2   6   2   4  18   8\n",
            "SearchScreeningEvent (6)    0   4   6   1   2  16  15\n"
          ]
        }
      ],
      "source": [
        "print(pd.DataFrame(confusion_matrix(predicted, true), index=[\"AddToPlaylist (0)\", \"BookRestaurant (1)\", \"GetWeather (2)\", \"PlayMusic (3)\", \"RateBook (4)\", \"SearchCreativeWork (5)\", \"SearchScreeningEvent (6)\"]))"
      ]
    },
    {
      "cell_type": "markdown",
      "metadata": {
        "id": "EbiBTPm2EWM_"
      },
      "source": [
        "## Single Layer Perceptron Classifier\n",
        "\n",
        "The next classifier you can build is single-layer perceptron. The specification of this model is in the next cell. You shouldn't make any changes to this."
      ]
    },
    {
      "cell_type": "code",
      "execution_count": 20,
      "metadata": {
        "id": "mhqmeFunSxTY"
      },
      "outputs": [],
      "source": [
        "class IntentClassifierPerceptron(nn.Module):\n",
        "    \"\"\" a simple perceptron based classifier \"\"\"\n",
        "    def __init__(self, input_dim, output_dim):\n",
        "        \"\"\"\n",
        "        Args:\n",
        "            num_features (int): the size of the input feature vector\n",
        "        \"\"\"\n",
        "        super(IntentClassifierPerceptron, self).__init__()\n",
        "        self.fc1 = nn.Linear(input_dim, output_dim)\n",
        "\n",
        "\n",
        "\n",
        "\n",
        "    def forward(self, x_in, apply_softmax=True):\n",
        "        \"\"\"The forward pass of the classifier\n",
        "\n",
        "        Args:\n",
        "            x_in (torch.Tensor): an input data tensor.\n",
        "                x_in.shape should be (batch, num_features)\n",
        "            apply_softmax (bool): a flag for the softmax activation\n",
        "        Returns:\n",
        "            the resulting tensor. tensor.shape should be (batch,)\n",
        "        \"\"\"\n",
        "\n",
        "        y_out = self.fc1(x_in)\n",
        "        if apply_softmax:\n",
        "            y_out = F.softmax(y_out,dim=1)\n",
        "        return y_out\n"
      ]
    },
    {
      "cell_type": "markdown",
      "metadata": {
        "id": "rxIBFz42QIF2"
      },
      "source": [
        "### Preprocessing\n",
        "As with the rule-based model, to increase the generalisability of your system you can preprocess the text to, for example, convert morphological variants to a single \"lemma\". You can do ths by adding different substitution (re.sub) functions to the function below. The function as is stands doesn't do anything - you need to update the re.sub statements.\n"
      ]
    },
    {
      "cell_type": "code",
      "execution_count": 21,
      "metadata": {
        "id": "wJK3bcpeQIF-"
      },
      "outputs": [],
      "source": [
        "def preprocess_utterance(utt):\n",
        "  utt = re.sub(\"\",\"\", utt)\n",
        "  return utt"
      ]
    },
    {
      "cell_type": "markdown",
      "metadata": {
        "id": "-d7BwY4CQIF-"
      },
      "source": [
        "For this machine-learning-based model we are going to make the preprocessing changes to the data used, and this will involve making changes to the file we have saved.\n",
        "\n",
        "Before we make changes to the data however, we should create a backup of the unaltered file in case we need to revert to it."
      ]
    },
    {
      "cell_type": "code",
      "execution_count": 22,
      "metadata": {
        "id": "Ru2zGZJXQIF-"
      },
      "outputs": [],
      "source": [
        "!cp intent_classification_with_splits.csv /content/gdrive/My\\ Drive/Intent_Classification/"
      ]
    },
    {
      "cell_type": "markdown",
      "metadata": {
        "id": "ASpjzF2gQIF_"
      },
      "source": [
        "When we need to revert to the original unaltered file, we can then run the following cell."
      ]
    },
    {
      "cell_type": "code",
      "execution_count": 23,
      "metadata": {
        "id": "Tr2Uiq-YQIF_"
      },
      "outputs": [],
      "source": [
        "!cp /content/gdrive/My\\ Drive/Intent_Classification/intent_classification_with_splits.csv .\n",
        "intent_data=pd.read_csv('/content/gdrive/My Drive/Intent_Classification/intent_classification_with_splits.csv')"
      ]
    },
    {
      "cell_type": "markdown",
      "metadata": {
        "id": "Lltyd5emQIF_"
      },
      "source": [
        "You can check that your preprocessing patterns are doing what we want by testing them on examples using the following cell"
      ]
    },
    {
      "cell_type": "code",
      "execution_count": 24,
      "metadata": {
        "id": "xmmw5G5QQIF_",
        "outputId": "3eac815d-f9bb-4af1-d17d-510f37a1b8b9",
        "colab": {
          "base_uri": "https://localhost:8080/"
        }
      },
      "outputs": [
        {
          "output_type": "stream",
          "name": "stdout",
          "text": [
            "Enter a utterance to test your preprocessing on: play jazz\n",
            "play jazz\n"
          ]
        }
      ],
      "source": [
        "test_input = input(\"Enter a utterance to test your preprocessing on: \")\n",
        "print(preprocess_utterance(test_input))"
      ]
    },
    {
      "cell_type": "markdown",
      "metadata": {
        "id": "PKxW9JpRQIF_"
      },
      "source": [
        "Once you are happy with your preprocessing you can then transform the text in the training, validation and test data using the following cell. This alters the data on the disk so if you want to undo any changes later you will have to revert to the original data (as described above)."
      ]
    },
    {
      "cell_type": "code",
      "execution_count": 25,
      "metadata": {
        "id": "fLg0h1JIQIF_"
      },
      "outputs": [],
      "source": [
        "intent_data['text'] = [preprocess_utterance(item) for item in intent_data['text']]\n",
        "intent_data.to_csv('intent_classification_with_splits.csv', index=False)"
      ]
    },
    {
      "cell_type": "markdown",
      "metadata": {
        "id": "pkTtqltm6Ctc"
      },
      "source": [
        "### Training the model\n",
        "In order to first initialise your model and then train it, you should run the following cell. The training will take a minute or two to complete - the progress bars will tell you how far along it is.\n"
      ]
    },
    {
      "cell_type": "code",
      "execution_count": 26,
      "metadata": {
        "id": "Nj-qJML1ja7t",
        "outputId": "2d2bde76-dacb-4fab-e1b4-25b955cdcc0d",
        "colab": {
          "base_uri": "https://localhost:8080/",
          "height": 184,
          "referenced_widgets": [
            "81039db9bc37470dbeab68fd8f6b888f",
            "9c5ccdc172824545973cfa62c36d113a",
            "b67b409f32e646759a107a85793eb02c",
            "88fd9c616a4347609192cc49f3f6ac20",
            "003792aab4fc46b8b667d4a5bd4ab34f",
            "82ce9be09f8344de9ec66d435af7029f",
            "715df782df3e4f07b04841f2380a9842",
            "b003a6d3161a4a8aa4e903d85ebffa2d",
            "fcb40f1690bb42a09e352d79c6dad7bf",
            "dad5912d153a4b86a52308a072704168",
            "93faf56a734e4c79b018461c2435e378",
            "17d81e3190354ef7bf7fdad7c006e7b6",
            "7d4aaccad5034ba99bbd3147e480fa9e",
            "12ca03a68c7c4f8fb2d9a0a77cbfdc06",
            "949f86c582bb43c5b617ad4db00728e9",
            "c38eaa5d3a3b4947be3a35d9cc40f3cd",
            "71f68e9b000b49699645f993311c0c94",
            "872db96a156847e69ff65b7d94b1a679",
            "93f904c188684cfd85d5f198424a12fa",
            "252a4b4f1e4c41f0a69651aaec773869",
            "a364c541db764b9b9d89b19cfe99babd",
            "a842eaab298d49b58f17d6b55870e19a",
            "5d492aae93644e66988efbdd14b99546",
            "0eab44a11dfe405398bce2d29a98f08b",
            "93f88734cb2c40038e61824a6e4c84de",
            "e803dce446074ea38fb08f14fda6b816",
            "e8add00908d940e5bb359af075556703",
            "6453e3de618541e7ba2885554aefac2a",
            "f9c4fd92f3ae40d3a17af53a6ef3450a",
            "fa09c560c3594f07aa1b0a60b490fc72",
            "eb4741357afb4f1dbfca83613176571c",
            "1ca49f8d7dfd479f80f6e81d16dc1c4b",
            "3df04c9b1aa048fc9baba164d4c78df9"
          ]
        }
      },
      "outputs": [
        {
          "output_type": "stream",
          "name": "stdout",
          "text": [
            "Expanded filepaths: \n",
            "\t/content/gdrive/My Drive/Intent_Classification/vectorizer.json\n",
            "\t/content/gdrive/My Drive/Intent_Classification/model.pth\n",
            "Using CUDA: False\n"
          ]
        },
        {
          "output_type": "display_data",
          "data": {
            "text/plain": [
              "training routine:   0%|          | 0/100 [00:00<?, ?it/s]"
            ],
            "application/vnd.jupyter.widget-view+json": {
              "version_major": 2,
              "version_minor": 0,
              "model_id": "81039db9bc37470dbeab68fd8f6b888f"
            }
          },
          "metadata": {}
        },
        {
          "output_type": "display_data",
          "data": {
            "text/plain": [
              "split=train:   0%|          | 0/5 [00:00<?, ?it/s]"
            ],
            "application/vnd.jupyter.widget-view+json": {
              "version_major": 2,
              "version_minor": 0,
              "model_id": "17d81e3190354ef7bf7fdad7c006e7b6"
            }
          },
          "metadata": {}
        },
        {
          "output_type": "display_data",
          "data": {
            "text/plain": [
              "split=val:   0%|          | 0/5 [00:00<?, ?it/s]"
            ],
            "application/vnd.jupyter.widget-view+json": {
              "version_major": 2,
              "version_minor": 0,
              "model_id": "5d492aae93644e66988efbdd14b99546"
            }
          },
          "metadata": {}
        }
      ],
      "source": [
        "params = initialise()\n",
        "classifier = IntentClassifierPerceptron(input_dim=len(params.vectorizer.text_vocab),output_dim=len(params.vectorizer.intent_vocab))\n",
        "train_state = trainModel(params, params.dataset, classifier)"
      ]
    },
    {
      "cell_type": "markdown",
      "metadata": {
        "id": "ejmO5vhuHn72"
      },
      "source": [
        "### Test on individual utterance\n",
        "\n",
        "As with the rule-based classifier you can look at the performance of the system on a single example utterance. This can be used to see whether your preprocessing is helping to capture the cases you hoped."
      ]
    },
    {
      "cell_type": "code",
      "execution_count": 27,
      "metadata": {
        "id": "5OEZKHmDKG2M",
        "outputId": "92764457-25c6-434f-bcc4-b9da748790c1",
        "colab": {
          "base_uri": "https://localhost:8080/"
        }
      },
      "outputs": [
        {
          "output_type": "stream",
          "name": "stdout",
          "text": [
            "Enter a utterance to classify: play jazz\n",
            "play jazz -> PlayMusic (p=0.37)\n"
          ]
        }
      ],
      "source": [
        "torch.manual_seed(0)\n",
        "new_utterance = input(\"Enter a utterance to classify: \")\n",
        "classifier = classifier.to(\"cpu\")\n",
        "prediction = predict_intent(preprocess_utterance(new_utterance), classifier, params.vectorizer)\n",
        "print(\"{} -> {} (p={:0.2f})\".format(new_utterance,\n",
        "                                    prediction['intent'],\n",
        "                                    prediction['probability']))"
      ]
    },
    {
      "cell_type": "markdown",
      "metadata": {
        "id": "ulIyMBO1qGfZ"
      },
      "source": [
        "### Evaluate performance on validation data\n",
        "In order to evaluate the performance of your system while you tweak your preprocessing you can evaluate performance on the validation data, and look at a confusion matrix."
      ]
    },
    {
      "cell_type": "code",
      "execution_count": 28,
      "metadata": {
        "id": "LZjsKUtLldPL",
        "outputId": "6df7e8d6-bc78-488c-ded2-2a52a0e4e5a8",
        "colab": {
          "base_uri": "https://localhost:8080/"
        }
      },
      "outputs": [
        {
          "output_type": "stream",
          "name": "stdout",
          "text": [
            "Test Accuracy: 82.34\n",
            "                       0   1   2   3   4   5   6\n",
            "AddToPlaylist         84   0   0   2   0   5   0\n",
            "BookRestaurant         0  96   2   2   1   8  14\n",
            "GetWeather             1   0  94   1   0   8  25\n",
            "PlayMusic              1   1   1  79   1   7   4\n",
            "RateBook               1   0   0   0  93   8   1\n",
            "SearchCreativeWork     0   0   0   0   0  45   6\n",
            "SearchScreeningEvent   0   0   0   0   0  13  36\n"
          ]
        }
      ],
      "source": [
        "torch.manual_seed(0)\n",
        "predicted, true = evaluate(params, classifier, train_state, 'val')\n",
        "print(\"Test Accuracy: {:.2f}\".format(train_state['val_acc']))\n",
        "print(pd.DataFrame(confusion_matrix(predicted, true), index=[\"AddToPlaylist\", \"BookRestaurant\", \"GetWeather\", \"PlayMusic\", \"RateBook\", \"SearchCreativeWork\", \"SearchScreeningEvent\"]))"
      ]
    },
    {
      "cell_type": "markdown",
      "metadata": {
        "id": "tGm1SE5ZqMis"
      },
      "source": [
        "### Evaluate performance on test data\n",
        "\n",
        "Once you are happy that model performance is as good as you can achieve with this model type you should evaluate its accuracy on the test data. You can also use the confusion matrix for error analysis in your write up."
      ]
    },
    {
      "cell_type": "code",
      "execution_count": 29,
      "metadata": {
        "id": "XF4udyBOqDgy",
        "outputId": "93e59dcc-0386-4cae-a68d-a09442343a4e",
        "colab": {
          "base_uri": "https://localhost:8080/"
        }
      },
      "outputs": [
        {
          "output_type": "stream",
          "name": "stdout",
          "text": [
            "Test Accuracy: 80.00\n",
            "                        0   1   2   3   4   5   6\n",
            "AddToPlaylist         104   1   1   4   0   3   1\n",
            "BookRestaurant          2  85   5   0   0   9  10\n",
            "GetWeather              1   0  87   1   1   3  25\n",
            "PlayMusic               3   1   0  73   1  13   2\n",
            "RateBook                1   0   0   1  68  13   5\n",
            "SearchCreativeWork      0   0   1   0   0  47   8\n",
            "SearchScreeningEvent    0   0   0   0   0  12  48\n"
          ]
        }
      ],
      "source": [
        "torch.manual_seed(0)\n",
        "predicted, true = evaluate(params, classifier, train_state, 'test')\n",
        "print(\"Test Accuracy: {:.2f}\".format(train_state['test_acc']))\n",
        "print(pd.DataFrame(confusion_matrix(predicted, true), index=[\"AddToPlaylist\", \"BookRestaurant\", \"GetWeather\", \"PlayMusic\", \"RateBook\", \"SearchCreativeWork\", \"SearchScreeningEvent\"]))"
      ]
    },
    {
      "cell_type": "markdown",
      "metadata": {
        "id": "NmJWrOFBvwJf"
      },
      "source": [
        "## Multilayer neural network classifier\n",
        "\n",
        "The third kind of classifier that you should build is a two-layer neural network. The model is defined below. Again you don't need to change this code."
      ]
    },
    {
      "cell_type": "code",
      "execution_count": 30,
      "metadata": {
        "id": "WUfDaievThXH"
      },
      "outputs": [],
      "source": [
        "class IntentClassifierMLP(nn.Module):\n",
        "    \"\"\" a simple perceptron based classifier \"\"\"\n",
        "    def __init__(self, input_dim, hidden_dim, output_dim):\n",
        "        \"\"\"\n",
        "        Args:\n",
        "            num_features (int): the size of the input feature vector\n",
        "        \"\"\"\n",
        "        super(IntentClassifierMLP, self).__init__()\n",
        "        self.fc1 = nn.Linear(input_dim, hidden_dim)\n",
        "        self.fc2 = nn.Linear(hidden_dim, output_dim)\n",
        "\n",
        "\n",
        "\n",
        "    def forward(self, x_in, apply_softmax=True):\n",
        "        \"\"\"The forward pass of the classifier\n",
        "\n",
        "        Args:\n",
        "            x_in (torch.Tensor): an input data tensor.\n",
        "                x_in.shape should be (batch, num_features)\n",
        "            apply_softmax (bool): a flag for the softmax activation\n",
        "        Returns:\n",
        "            the resulting tensor. tensor.shape should be (batch,)\n",
        "        \"\"\"\n",
        "        intermediate_vector = F.relu(self.fc1(x_in))\n",
        "        prediction_vector = self.fc2(intermediate_vector)\n",
        "\n",
        "        if apply_softmax:\n",
        "            prediction_vector = F.softmax(prediction_vector,dim=1)\n",
        "        return prediction_vector\n"
      ]
    },
    {
      "cell_type": "markdown",
      "metadata": {
        "id": "CZCtR8k29BV6"
      },
      "source": [
        "### Preprocessing\n",
        "As with the previous models, to increase the generalisability of your system you can preprocess the text to, for example, convert morphological variants to a single \"lemma\". You can do ths by adding different substitution (re.sub) functions to the function below. The function as is stands doesn't do anything - you need to update the re.sub statements.\n"
      ]
    },
    {
      "cell_type": "code",
      "execution_count": 31,
      "metadata": {
        "id": "KzvODPtSF9up"
      },
      "outputs": [],
      "source": [
        "def preprocess_utterance(utt):\n",
        "  utt = re.sub(\"\",\"\", utt)\n",
        "  utt = re.sub(\"\",\"\", utt)\n",
        "  utt = re.sub(\"\",\"\", utt)\n",
        "  return utt"
      ]
    },
    {
      "cell_type": "markdown",
      "metadata": {
        "id": "tGYR060QAdXF"
      },
      "source": [
        "For this machine-learning-based model we are going to make the preprocessing changes to the data use, and this will involve making changes to the file we have saved.\n",
        "\n",
        "Before we make changes to the data however, we should create a backup of the unaltered file in case we need to revert to it."
      ]
    },
    {
      "cell_type": "code",
      "execution_count": 32,
      "metadata": {
        "id": "fGf_n3q3_osy"
      },
      "outputs": [],
      "source": [
        "!cp intent_classification_with_splits.csv /content/gdrive/My\\ Drive/Intent_Classification/"
      ]
    },
    {
      "cell_type": "markdown",
      "metadata": {
        "id": "CqnnX_R3ASft"
      },
      "source": [
        "When we need to revert to the original unaltered file, we can then run the following cell."
      ]
    },
    {
      "cell_type": "code",
      "execution_count": 33,
      "metadata": {
        "id": "HaMZzsyvAJyZ"
      },
      "outputs": [],
      "source": [
        "!cp /content/gdrive/My\\ Drive/Intent_Classification/intent_classification_with_splits.csv .\n",
        "intent_data=pd.read_csv('intent_classification_with_splits.csv')"
      ]
    },
    {
      "cell_type": "markdown",
      "metadata": {
        "id": "5KCskx_pBPn1"
      },
      "source": [
        "You can check that your preprocessing patterns are doing what we want by testing them on examples using the following cell"
      ]
    },
    {
      "cell_type": "code",
      "execution_count": 34,
      "metadata": {
        "id": "TLqEVhjxBWsX",
        "outputId": "87abc8e5-ef11-4a69-d254-4c97cbc45372",
        "colab": {
          "base_uri": "https://localhost:8080/"
        }
      },
      "outputs": [
        {
          "output_type": "stream",
          "name": "stdout",
          "text": [
            "Enter a utterance to test your preprocessing on: play jazz\n",
            "play jazz\n"
          ]
        }
      ],
      "source": [
        "test_input = input(\"Enter a utterance to test your preprocessing on: \")\n",
        "print(preprocess_utterance(test_input))\n"
      ]
    },
    {
      "cell_type": "markdown",
      "metadata": {
        "id": "JpfyaMF1A8ra"
      },
      "source": [
        "Once you are happy with your preprocessing you can then transform the text in the training, validation and test data using the following cell. This alters the data on the disk so if you want to undo any changes later you will have to revert to the original data (as described above)."
      ]
    },
    {
      "cell_type": "code",
      "execution_count": 35,
      "metadata": {
        "id": "WrK4_EBB9bf7"
      },
      "outputs": [],
      "source": [
        "intent_data['text'] = [preprocess_utterance(item) for item in intent_data['text']]\n",
        "intent_data.to_csv('intent_classification_with_splits.csv', index=False)"
      ]
    },
    {
      "cell_type": "markdown",
      "metadata": {
        "id": "qUYKpA_k7j8B"
      },
      "source": [
        "### Training model\n",
        "You can now move on to training the model using your preprocessed data.\n",
        "\n",
        "One important variable that you can change is the number of nodes to include in your hidden layer. You can set this parameter in the cell below. The default is 100."
      ]
    },
    {
      "cell_type": "code",
      "execution_count": 36,
      "metadata": {
        "id": "I2IqgaF072Wl"
      },
      "outputs": [],
      "source": [
        "n_hidden_dims = 100"
      ]
    },
    {
      "cell_type": "markdown",
      "metadata": {
        "id": "oYEM37XU8BT3"
      },
      "source": [
        "You can then initialise and train the model by running the following cell."
      ]
    },
    {
      "cell_type": "code",
      "execution_count": 37,
      "metadata": {
        "id": "8XN0GKp9eoNY",
        "outputId": "387501f2-5e1d-44f4-979a-ed9b5baf3488",
        "colab": {
          "base_uri": "https://localhost:8080/",
          "height": 184,
          "referenced_widgets": [
            "22ecbdeae40946b8a714b669d56b9886",
            "e22b7581a08946a88011c30b8d66c8ea",
            "37cdee0204484b0f913b3e31c41f922d",
            "e515f5ff7bea4c18b7acc9a8ef46a215",
            "f4a57e377bac4918b6827044d1b4af51",
            "7ae35d963e884b68a288976f078442c7",
            "c444871ebdeb4ae2a67a529e1e061849",
            "69074d2adfc34f779f14e5359edac2c1",
            "2d7d07702904405d848c1a317fa56bbd",
            "2b66bb8156e04263b9b308c886a3a0a7",
            "d18a8cc37c21426f85e677ca92f9bf9c",
            "dc2bf8abd6d14d7196011750463834b5",
            "6c1d001a0106428194591e3c629dbaf7",
            "9d9c04c68ec94a718f6b2e81dafa828e",
            "af41d9adeecd467fa17a9fe392f2f8d1",
            "616ad7f078d94a418c70a6eaceb12f9e",
            "e78415e70e0248098e9ba07570b3e3c4",
            "1ed11d44810742e9b6477277e61f042e",
            "84639dcc80c84aa38bcc607bae513877",
            "4567082f2546472398255d974653defe",
            "93dcbe9a206a453aa31e4d6f5946b0f8",
            "15c5c8611b0542eb97039667fd364c14",
            "e9a49464a3da42489a3bc0d11bff40ea",
            "e3f2b6c53dc34f0fa3cd53cc38e8b8f7",
            "52c0dd4420794be6bfdad17948a0c073",
            "7b4dbd8130314974a624d98c9195c659",
            "3b7831f931b04ffeb7baeb43361d23a0",
            "1cbe23c1bd6149f2a196f472ad741a7a",
            "754826f472b943a3932c89afab3456e6",
            "54c93c97aac3498e9551c08e04b1dcce",
            "57cee6d40e7e40d3b4a5ee66fb3aee5c",
            "9e3e5a1c481c49db9be81c63a3ca38d6",
            "6c8335fc06ab408899bb084aa85225dc"
          ]
        }
      },
      "outputs": [
        {
          "output_type": "stream",
          "name": "stdout",
          "text": [
            "Expanded filepaths: \n",
            "\t/content/gdrive/My Drive/Intent_Classification/vectorizer.json\n",
            "\t/content/gdrive/My Drive/Intent_Classification/model.pth\n",
            "Using CUDA: False\n"
          ]
        },
        {
          "output_type": "display_data",
          "data": {
            "text/plain": [
              "training routine:   0%|          | 0/100 [00:00<?, ?it/s]"
            ],
            "application/vnd.jupyter.widget-view+json": {
              "version_major": 2,
              "version_minor": 0,
              "model_id": "22ecbdeae40946b8a714b669d56b9886"
            }
          },
          "metadata": {}
        },
        {
          "output_type": "display_data",
          "data": {
            "text/plain": [
              "split=train:   0%|          | 0/5 [00:00<?, ?it/s]"
            ],
            "application/vnd.jupyter.widget-view+json": {
              "version_major": 2,
              "version_minor": 0,
              "model_id": "dc2bf8abd6d14d7196011750463834b5"
            }
          },
          "metadata": {}
        },
        {
          "output_type": "display_data",
          "data": {
            "text/plain": [
              "split=val:   0%|          | 0/5 [00:00<?, ?it/s]"
            ],
            "application/vnd.jupyter.widget-view+json": {
              "version_major": 2,
              "version_minor": 0,
              "model_id": "e9a49464a3da42489a3bc0d11bff40ea"
            }
          },
          "metadata": {}
        }
      ],
      "source": [
        "params = initialise()\n",
        "classifier = IntentClassifierMLP(input_dim=len(params.vectorizer.text_vocab),hidden_dim=n_hidden_dims,output_dim=len(params.vectorizer.intent_vocab))\n",
        "train_state = trainModel(params, params.dataset, classifier)"
      ]
    },
    {
      "cell_type": "markdown",
      "metadata": {
        "id": "RZwwWsWk8oks"
      },
      "source": [
        "The following cell allows you to look at the performance of the system on a single example utterance. This can be used to see whether your preprocessing (and/or your choice of hidden dimensions) is capturing the cases you hoped."
      ]
    },
    {
      "cell_type": "code",
      "execution_count": 38,
      "metadata": {
        "id": "lED2pnPpLDpj",
        "outputId": "66045a13-0fc2-4543-87ae-5493ece5dafa",
        "colab": {
          "base_uri": "https://localhost:8080/"
        }
      },
      "outputs": [
        {
          "output_type": "stream",
          "name": "stdout",
          "text": [
            "Enter a utterance to classify: play country\n",
            "play country -> PlayMusic (p=0.96)\n"
          ]
        }
      ],
      "source": [
        "torch.manual_seed(0)\n",
        "new_utterance = input(\"Enter a utterance to classify: \")\n",
        "classifier = classifier.to(\"cpu\")\n",
        "prediction = predict_intent(preprocess_utterance(new_utterance), classifier, params.vectorizer)\n",
        "print(\"{} -> {} (p={:0.2f})\".format(new_utterance,\n",
        "                                    prediction['intent'],\n",
        "                                    prediction['probability']))"
      ]
    },
    {
      "cell_type": "markdown",
      "metadata": {
        "id": "H9tEyVp9qv2F"
      },
      "source": [
        "### Evaluate model on validation data\n",
        "\n",
        "In order to evaluate the performance of your system while you tweak it you can evaluate performance on the validation data, and look at a confusion matrix."
      ]
    },
    {
      "cell_type": "code",
      "execution_count": 39,
      "metadata": {
        "id": "P6y-UHQVquba",
        "outputId": "26fb3e46-cf5a-4728-f310-74e226937b93",
        "colab": {
          "base_uri": "https://localhost:8080/"
        }
      },
      "outputs": [
        {
          "output_type": "stream",
          "name": "stdout",
          "text": [
            "Test Accuracy: 89.06\n",
            "                       0   1   2   3   4   5   6\n",
            "AddToPlaylist         84   0   0   0   0   0   0\n",
            "BookRestaurant         0  95   2   2   1   2   9\n",
            "GetWeather             1   1  79   0   0   3   5\n",
            "PlayMusic              1   0   1  80   0   2   0\n",
            "RateBook               0   0   0   0  94   0   0\n",
            "SearchCreativeWork     1   0   1   1   0  81  15\n",
            "SearchScreeningEvent   0   1  14   1   0   6  57\n"
          ]
        }
      ],
      "source": [
        "torch.manual_seed(0)\n",
        "predicted, true = evaluate(params, classifier, train_state, 'val')\n",
        "print(\"Test Accuracy: {:.2f}\".format(train_state['val_acc']))\n",
        "print(pd.DataFrame(confusion_matrix(predicted, true), index=[\"AddToPlaylist\", \"BookRestaurant\", \"GetWeather\", \"PlayMusic\", \"RateBook\", \"SearchCreativeWork\", \"SearchScreeningEvent\"]))"
      ]
    },
    {
      "cell_type": "markdown",
      "metadata": {
        "id": "6WQeZtjvq1gc"
      },
      "source": [
        "### Evaluate model on test data\n",
        "\n",
        "Once you are happy that model performance is as good as you can achieve with this model type you should evaluate its accuracy on the test data. You can also use the confusion matrix for error analysis in your write up."
      ]
    },
    {
      "cell_type": "code",
      "execution_count": 40,
      "metadata": {
        "id": "x-EvHcvIqu6y",
        "outputId": "7c973654-b024-47da-e7ca-25538a02174a",
        "colab": {
          "base_uri": "https://localhost:8080/"
        }
      },
      "outputs": [
        {
          "output_type": "stream",
          "name": "stdout",
          "text": [
            "Test Accuracy: 87.19\n",
            "                        0   1   2   3   4   5   6\n",
            "AddToPlaylist         103   0   0   0   0   0   1\n",
            "BookRestaurant          1  79   3   0   1   2   1\n",
            "GetWeather              1   3  81   0   0   0   0\n",
            "PlayMusic               3   1   0  75   2  12   0\n",
            "RateBook                0   0   0   0  67   1   1\n",
            "SearchCreativeWork      3   2   1   3   0  75  18\n",
            "SearchScreeningEvent    0   2   9   1   0  10  78\n"
          ]
        }
      ],
      "source": [
        "torch.manual_seed(0)\n",
        "predicted, true = evaluate(params, classifier, train_state, 'test')\n",
        "print(\"Test Accuracy: {:.2f}\".format(train_state['test_acc']))\n",
        "print(pd.DataFrame(confusion_matrix(predicted, true), index=[\"AddToPlaylist\", \"BookRestaurant\", \"GetWeather\", \"PlayMusic\", \"RateBook\", \"SearchCreativeWork\", \"SearchScreeningEvent\"]))"
      ]
    },
    {
      "cell_type": "markdown",
      "metadata": {
        "id": "uivLXlpkzF-c"
      },
      "source": [
        "## That's it!\n",
        "\n",
        "Once you have run through all of this notebook, made all of the additions and changes you want, and run all of the experiments you want you should write up the results following the guidance [here]( https://www.dropbox.com/s/7u1yazkok6hmeth/Writing%20your%20Computational%20Linguistics%20Research%20Report%20-%20postgrad.docx?dl=0)\n",
        "\n",
        "Your report should be submitted via turnitin using the link on Blackboard.\n",
        "\n",
        "To repeat a couple of things from the top of the sheet:\n",
        "\n",
        "- Once you have completed your work in this notebook, please use print to create a PDF file and attach it to your report when you submit it. This is just so that I can check what you have done if it isn't clear from your report. You will not be marked on the quality of any code you might include.\n",
        "\n",
        "- Please feel free to ask any questions about any part of the coursework. So that my response can benefit everyone please do so using the Coursework Discussion board on Blackboard. You can find a link to this down the left of the module Blackboard page.\n",
        "\n",
        "I hope you find it an enjoyable and worthwhile exercise.\n"
      ]
    }
  ],
  "metadata": {
    "colab": {
      "provenance": []
    },
    "kernelspec": {
      "display_name": "Python 3 (ipykernel)",
      "language": "python",
      "name": "python3"
    },
    "language_info": {
      "codemirror_mode": {
        "name": "ipython",
        "version": 3
      },
      "file_extension": ".py",
      "mimetype": "text/x-python",
      "name": "python",
      "nbconvert_exporter": "python",
      "pygments_lexer": "ipython3",
      "version": "3.8.12"
    },
    "widgets": {
      "application/vnd.jupyter.widget-state+json": {
        "81039db9bc37470dbeab68fd8f6b888f": {
          "model_module": "@jupyter-widgets/controls",
          "model_name": "HBoxModel",
          "model_module_version": "1.5.0",
          "state": {
            "_dom_classes": [],
            "_model_module": "@jupyter-widgets/controls",
            "_model_module_version": "1.5.0",
            "_model_name": "HBoxModel",
            "_view_count": null,
            "_view_module": "@jupyter-widgets/controls",
            "_view_module_version": "1.5.0",
            "_view_name": "HBoxView",
            "box_style": "",
            "children": [
              "IPY_MODEL_9c5ccdc172824545973cfa62c36d113a",
              "IPY_MODEL_b67b409f32e646759a107a85793eb02c",
              "IPY_MODEL_88fd9c616a4347609192cc49f3f6ac20"
            ],
            "layout": "IPY_MODEL_003792aab4fc46b8b667d4a5bd4ab34f"
          }
        },
        "9c5ccdc172824545973cfa62c36d113a": {
          "model_module": "@jupyter-widgets/controls",
          "model_name": "HTMLModel",
          "model_module_version": "1.5.0",
          "state": {
            "_dom_classes": [],
            "_model_module": "@jupyter-widgets/controls",
            "_model_module_version": "1.5.0",
            "_model_name": "HTMLModel",
            "_view_count": null,
            "_view_module": "@jupyter-widgets/controls",
            "_view_module_version": "1.5.0",
            "_view_name": "HTMLView",
            "description": "",
            "description_tooltip": null,
            "layout": "IPY_MODEL_82ce9be09f8344de9ec66d435af7029f",
            "placeholder": "​",
            "style": "IPY_MODEL_715df782df3e4f07b04841f2380a9842",
            "value": "training routine: "
          }
        },
        "b67b409f32e646759a107a85793eb02c": {
          "model_module": "@jupyter-widgets/controls",
          "model_name": "FloatProgressModel",
          "model_module_version": "1.5.0",
          "state": {
            "_dom_classes": [],
            "_model_module": "@jupyter-widgets/controls",
            "_model_module_version": "1.5.0",
            "_model_name": "FloatProgressModel",
            "_view_count": null,
            "_view_module": "@jupyter-widgets/controls",
            "_view_module_version": "1.5.0",
            "_view_name": "ProgressView",
            "bar_style": "",
            "description": "",
            "description_tooltip": null,
            "layout": "IPY_MODEL_b003a6d3161a4a8aa4e903d85ebffa2d",
            "max": 100,
            "min": 0,
            "orientation": "horizontal",
            "style": "IPY_MODEL_fcb40f1690bb42a09e352d79c6dad7bf",
            "value": 100
          }
        },
        "88fd9c616a4347609192cc49f3f6ac20": {
          "model_module": "@jupyter-widgets/controls",
          "model_name": "HTMLModel",
          "model_module_version": "1.5.0",
          "state": {
            "_dom_classes": [],
            "_model_module": "@jupyter-widgets/controls",
            "_model_module_version": "1.5.0",
            "_model_name": "HTMLModel",
            "_view_count": null,
            "_view_module": "@jupyter-widgets/controls",
            "_view_module_version": "1.5.0",
            "_view_name": "HTMLView",
            "description": "",
            "description_tooltip": null,
            "layout": "IPY_MODEL_dad5912d153a4b86a52308a072704168",
            "placeholder": "​",
            "style": "IPY_MODEL_93faf56a734e4c79b018461c2435e378",
            "value": " 199/? [00:23&lt;00:00,  8.43it/s]"
          }
        },
        "003792aab4fc46b8b667d4a5bd4ab34f": {
          "model_module": "@jupyter-widgets/base",
          "model_name": "LayoutModel",
          "model_module_version": "1.2.0",
          "state": {
            "_model_module": "@jupyter-widgets/base",
            "_model_module_version": "1.2.0",
            "_model_name": "LayoutModel",
            "_view_count": null,
            "_view_module": "@jupyter-widgets/base",
            "_view_module_version": "1.2.0",
            "_view_name": "LayoutView",
            "align_content": null,
            "align_items": null,
            "align_self": null,
            "border": null,
            "bottom": null,
            "display": null,
            "flex": null,
            "flex_flow": null,
            "grid_area": null,
            "grid_auto_columns": null,
            "grid_auto_flow": null,
            "grid_auto_rows": null,
            "grid_column": null,
            "grid_gap": null,
            "grid_row": null,
            "grid_template_areas": null,
            "grid_template_columns": null,
            "grid_template_rows": null,
            "height": null,
            "justify_content": null,
            "justify_items": null,
            "left": null,
            "margin": null,
            "max_height": null,
            "max_width": null,
            "min_height": null,
            "min_width": null,
            "object_fit": null,
            "object_position": null,
            "order": null,
            "overflow": null,
            "overflow_x": null,
            "overflow_y": null,
            "padding": null,
            "right": null,
            "top": null,
            "visibility": null,
            "width": null
          }
        },
        "82ce9be09f8344de9ec66d435af7029f": {
          "model_module": "@jupyter-widgets/base",
          "model_name": "LayoutModel",
          "model_module_version": "1.2.0",
          "state": {
            "_model_module": "@jupyter-widgets/base",
            "_model_module_version": "1.2.0",
            "_model_name": "LayoutModel",
            "_view_count": null,
            "_view_module": "@jupyter-widgets/base",
            "_view_module_version": "1.2.0",
            "_view_name": "LayoutView",
            "align_content": null,
            "align_items": null,
            "align_self": null,
            "border": null,
            "bottom": null,
            "display": null,
            "flex": null,
            "flex_flow": null,
            "grid_area": null,
            "grid_auto_columns": null,
            "grid_auto_flow": null,
            "grid_auto_rows": null,
            "grid_column": null,
            "grid_gap": null,
            "grid_row": null,
            "grid_template_areas": null,
            "grid_template_columns": null,
            "grid_template_rows": null,
            "height": null,
            "justify_content": null,
            "justify_items": null,
            "left": null,
            "margin": null,
            "max_height": null,
            "max_width": null,
            "min_height": null,
            "min_width": null,
            "object_fit": null,
            "object_position": null,
            "order": null,
            "overflow": null,
            "overflow_x": null,
            "overflow_y": null,
            "padding": null,
            "right": null,
            "top": null,
            "visibility": null,
            "width": null
          }
        },
        "715df782df3e4f07b04841f2380a9842": {
          "model_module": "@jupyter-widgets/controls",
          "model_name": "DescriptionStyleModel",
          "model_module_version": "1.5.0",
          "state": {
            "_model_module": "@jupyter-widgets/controls",
            "_model_module_version": "1.5.0",
            "_model_name": "DescriptionStyleModel",
            "_view_count": null,
            "_view_module": "@jupyter-widgets/base",
            "_view_module_version": "1.2.0",
            "_view_name": "StyleView",
            "description_width": ""
          }
        },
        "b003a6d3161a4a8aa4e903d85ebffa2d": {
          "model_module": "@jupyter-widgets/base",
          "model_name": "LayoutModel",
          "model_module_version": "1.2.0",
          "state": {
            "_model_module": "@jupyter-widgets/base",
            "_model_module_version": "1.2.0",
            "_model_name": "LayoutModel",
            "_view_count": null,
            "_view_module": "@jupyter-widgets/base",
            "_view_module_version": "1.2.0",
            "_view_name": "LayoutView",
            "align_content": null,
            "align_items": null,
            "align_self": null,
            "border": null,
            "bottom": null,
            "display": null,
            "flex": null,
            "flex_flow": null,
            "grid_area": null,
            "grid_auto_columns": null,
            "grid_auto_flow": null,
            "grid_auto_rows": null,
            "grid_column": null,
            "grid_gap": null,
            "grid_row": null,
            "grid_template_areas": null,
            "grid_template_columns": null,
            "grid_template_rows": null,
            "height": null,
            "justify_content": null,
            "justify_items": null,
            "left": null,
            "margin": null,
            "max_height": null,
            "max_width": null,
            "min_height": null,
            "min_width": null,
            "object_fit": null,
            "object_position": null,
            "order": null,
            "overflow": null,
            "overflow_x": null,
            "overflow_y": null,
            "padding": null,
            "right": null,
            "top": null,
            "visibility": null,
            "width": null
          }
        },
        "fcb40f1690bb42a09e352d79c6dad7bf": {
          "model_module": "@jupyter-widgets/controls",
          "model_name": "ProgressStyleModel",
          "model_module_version": "1.5.0",
          "state": {
            "_model_module": "@jupyter-widgets/controls",
            "_model_module_version": "1.5.0",
            "_model_name": "ProgressStyleModel",
            "_view_count": null,
            "_view_module": "@jupyter-widgets/base",
            "_view_module_version": "1.2.0",
            "_view_name": "StyleView",
            "bar_color": null,
            "description_width": ""
          }
        },
        "dad5912d153a4b86a52308a072704168": {
          "model_module": "@jupyter-widgets/base",
          "model_name": "LayoutModel",
          "model_module_version": "1.2.0",
          "state": {
            "_model_module": "@jupyter-widgets/base",
            "_model_module_version": "1.2.0",
            "_model_name": "LayoutModel",
            "_view_count": null,
            "_view_module": "@jupyter-widgets/base",
            "_view_module_version": "1.2.0",
            "_view_name": "LayoutView",
            "align_content": null,
            "align_items": null,
            "align_self": null,
            "border": null,
            "bottom": null,
            "display": null,
            "flex": null,
            "flex_flow": null,
            "grid_area": null,
            "grid_auto_columns": null,
            "grid_auto_flow": null,
            "grid_auto_rows": null,
            "grid_column": null,
            "grid_gap": null,
            "grid_row": null,
            "grid_template_areas": null,
            "grid_template_columns": null,
            "grid_template_rows": null,
            "height": null,
            "justify_content": null,
            "justify_items": null,
            "left": null,
            "margin": null,
            "max_height": null,
            "max_width": null,
            "min_height": null,
            "min_width": null,
            "object_fit": null,
            "object_position": null,
            "order": null,
            "overflow": null,
            "overflow_x": null,
            "overflow_y": null,
            "padding": null,
            "right": null,
            "top": null,
            "visibility": null,
            "width": null
          }
        },
        "93faf56a734e4c79b018461c2435e378": {
          "model_module": "@jupyter-widgets/controls",
          "model_name": "DescriptionStyleModel",
          "model_module_version": "1.5.0",
          "state": {
            "_model_module": "@jupyter-widgets/controls",
            "_model_module_version": "1.5.0",
            "_model_name": "DescriptionStyleModel",
            "_view_count": null,
            "_view_module": "@jupyter-widgets/base",
            "_view_module_version": "1.2.0",
            "_view_name": "StyleView",
            "description_width": ""
          }
        },
        "17d81e3190354ef7bf7fdad7c006e7b6": {
          "model_module": "@jupyter-widgets/controls",
          "model_name": "HBoxModel",
          "model_module_version": "1.5.0",
          "state": {
            "_dom_classes": [],
            "_model_module": "@jupyter-widgets/controls",
            "_model_module_version": "1.5.0",
            "_model_name": "HBoxModel",
            "_view_count": null,
            "_view_module": "@jupyter-widgets/controls",
            "_view_module_version": "1.5.0",
            "_view_name": "HBoxView",
            "box_style": "",
            "children": [
              "IPY_MODEL_7d4aaccad5034ba99bbd3147e480fa9e",
              "IPY_MODEL_12ca03a68c7c4f8fb2d9a0a77cbfdc06",
              "IPY_MODEL_949f86c582bb43c5b617ad4db00728e9"
            ],
            "layout": "IPY_MODEL_c38eaa5d3a3b4947be3a35d9cc40f3cd"
          }
        },
        "7d4aaccad5034ba99bbd3147e480fa9e": {
          "model_module": "@jupyter-widgets/controls",
          "model_name": "HTMLModel",
          "model_module_version": "1.5.0",
          "state": {
            "_dom_classes": [],
            "_model_module": "@jupyter-widgets/controls",
            "_model_module_version": "1.5.0",
            "_model_name": "HTMLModel",
            "_view_count": null,
            "_view_module": "@jupyter-widgets/controls",
            "_view_module_version": "1.5.0",
            "_view_name": "HTMLView",
            "description": "",
            "description_tooltip": null,
            "layout": "IPY_MODEL_71f68e9b000b49699645f993311c0c94",
            "placeholder": "​",
            "style": "IPY_MODEL_872db96a156847e69ff65b7d94b1a679",
            "value": "split=train:  80%"
          }
        },
        "12ca03a68c7c4f8fb2d9a0a77cbfdc06": {
          "model_module": "@jupyter-widgets/controls",
          "model_name": "FloatProgressModel",
          "model_module_version": "1.5.0",
          "state": {
            "_dom_classes": [],
            "_model_module": "@jupyter-widgets/controls",
            "_model_module_version": "1.5.0",
            "_model_name": "FloatProgressModel",
            "_view_count": null,
            "_view_module": "@jupyter-widgets/controls",
            "_view_module_version": "1.5.0",
            "_view_name": "ProgressView",
            "bar_style": "",
            "description": "",
            "description_tooltip": null,
            "layout": "IPY_MODEL_93f904c188684cfd85d5f198424a12fa",
            "max": 5,
            "min": 0,
            "orientation": "horizontal",
            "style": "IPY_MODEL_252a4b4f1e4c41f0a69651aaec773869",
            "value": 4
          }
        },
        "949f86c582bb43c5b617ad4db00728e9": {
          "model_module": "@jupyter-widgets/controls",
          "model_name": "HTMLModel",
          "model_module_version": "1.5.0",
          "state": {
            "_dom_classes": [],
            "_model_module": "@jupyter-widgets/controls",
            "_model_module_version": "1.5.0",
            "_model_name": "HTMLModel",
            "_view_count": null,
            "_view_module": "@jupyter-widgets/controls",
            "_view_module_version": "1.5.0",
            "_view_name": "HTMLView",
            "description": "",
            "description_tooltip": null,
            "layout": "IPY_MODEL_a364c541db764b9b9d89b19cfe99babd",
            "placeholder": "​",
            "style": "IPY_MODEL_a842eaab298d49b58f17d6b55870e19a",
            "value": " 4/5 [00:22&lt;00:00,  3.71it/s, acc=84.5, epoch=99, loss=1.58]"
          }
        },
        "c38eaa5d3a3b4947be3a35d9cc40f3cd": {
          "model_module": "@jupyter-widgets/base",
          "model_name": "LayoutModel",
          "model_module_version": "1.2.0",
          "state": {
            "_model_module": "@jupyter-widgets/base",
            "_model_module_version": "1.2.0",
            "_model_name": "LayoutModel",
            "_view_count": null,
            "_view_module": "@jupyter-widgets/base",
            "_view_module_version": "1.2.0",
            "_view_name": "LayoutView",
            "align_content": null,
            "align_items": null,
            "align_self": null,
            "border": null,
            "bottom": null,
            "display": null,
            "flex": null,
            "flex_flow": null,
            "grid_area": null,
            "grid_auto_columns": null,
            "grid_auto_flow": null,
            "grid_auto_rows": null,
            "grid_column": null,
            "grid_gap": null,
            "grid_row": null,
            "grid_template_areas": null,
            "grid_template_columns": null,
            "grid_template_rows": null,
            "height": null,
            "justify_content": null,
            "justify_items": null,
            "left": null,
            "margin": null,
            "max_height": null,
            "max_width": null,
            "min_height": null,
            "min_width": null,
            "object_fit": null,
            "object_position": null,
            "order": null,
            "overflow": null,
            "overflow_x": null,
            "overflow_y": null,
            "padding": null,
            "right": null,
            "top": null,
            "visibility": null,
            "width": null
          }
        },
        "71f68e9b000b49699645f993311c0c94": {
          "model_module": "@jupyter-widgets/base",
          "model_name": "LayoutModel",
          "model_module_version": "1.2.0",
          "state": {
            "_model_module": "@jupyter-widgets/base",
            "_model_module_version": "1.2.0",
            "_model_name": "LayoutModel",
            "_view_count": null,
            "_view_module": "@jupyter-widgets/base",
            "_view_module_version": "1.2.0",
            "_view_name": "LayoutView",
            "align_content": null,
            "align_items": null,
            "align_self": null,
            "border": null,
            "bottom": null,
            "display": null,
            "flex": null,
            "flex_flow": null,
            "grid_area": null,
            "grid_auto_columns": null,
            "grid_auto_flow": null,
            "grid_auto_rows": null,
            "grid_column": null,
            "grid_gap": null,
            "grid_row": null,
            "grid_template_areas": null,
            "grid_template_columns": null,
            "grid_template_rows": null,
            "height": null,
            "justify_content": null,
            "justify_items": null,
            "left": null,
            "margin": null,
            "max_height": null,
            "max_width": null,
            "min_height": null,
            "min_width": null,
            "object_fit": null,
            "object_position": null,
            "order": null,
            "overflow": null,
            "overflow_x": null,
            "overflow_y": null,
            "padding": null,
            "right": null,
            "top": null,
            "visibility": null,
            "width": null
          }
        },
        "872db96a156847e69ff65b7d94b1a679": {
          "model_module": "@jupyter-widgets/controls",
          "model_name": "DescriptionStyleModel",
          "model_module_version": "1.5.0",
          "state": {
            "_model_module": "@jupyter-widgets/controls",
            "_model_module_version": "1.5.0",
            "_model_name": "DescriptionStyleModel",
            "_view_count": null,
            "_view_module": "@jupyter-widgets/base",
            "_view_module_version": "1.2.0",
            "_view_name": "StyleView",
            "description_width": ""
          }
        },
        "93f904c188684cfd85d5f198424a12fa": {
          "model_module": "@jupyter-widgets/base",
          "model_name": "LayoutModel",
          "model_module_version": "1.2.0",
          "state": {
            "_model_module": "@jupyter-widgets/base",
            "_model_module_version": "1.2.0",
            "_model_name": "LayoutModel",
            "_view_count": null,
            "_view_module": "@jupyter-widgets/base",
            "_view_module_version": "1.2.0",
            "_view_name": "LayoutView",
            "align_content": null,
            "align_items": null,
            "align_self": null,
            "border": null,
            "bottom": null,
            "display": null,
            "flex": null,
            "flex_flow": null,
            "grid_area": null,
            "grid_auto_columns": null,
            "grid_auto_flow": null,
            "grid_auto_rows": null,
            "grid_column": null,
            "grid_gap": null,
            "grid_row": null,
            "grid_template_areas": null,
            "grid_template_columns": null,
            "grid_template_rows": null,
            "height": null,
            "justify_content": null,
            "justify_items": null,
            "left": null,
            "margin": null,
            "max_height": null,
            "max_width": null,
            "min_height": null,
            "min_width": null,
            "object_fit": null,
            "object_position": null,
            "order": null,
            "overflow": null,
            "overflow_x": null,
            "overflow_y": null,
            "padding": null,
            "right": null,
            "top": null,
            "visibility": null,
            "width": null
          }
        },
        "252a4b4f1e4c41f0a69651aaec773869": {
          "model_module": "@jupyter-widgets/controls",
          "model_name": "ProgressStyleModel",
          "model_module_version": "1.5.0",
          "state": {
            "_model_module": "@jupyter-widgets/controls",
            "_model_module_version": "1.5.0",
            "_model_name": "ProgressStyleModel",
            "_view_count": null,
            "_view_module": "@jupyter-widgets/base",
            "_view_module_version": "1.2.0",
            "_view_name": "StyleView",
            "bar_color": null,
            "description_width": ""
          }
        },
        "a364c541db764b9b9d89b19cfe99babd": {
          "model_module": "@jupyter-widgets/base",
          "model_name": "LayoutModel",
          "model_module_version": "1.2.0",
          "state": {
            "_model_module": "@jupyter-widgets/base",
            "_model_module_version": "1.2.0",
            "_model_name": "LayoutModel",
            "_view_count": null,
            "_view_module": "@jupyter-widgets/base",
            "_view_module_version": "1.2.0",
            "_view_name": "LayoutView",
            "align_content": null,
            "align_items": null,
            "align_self": null,
            "border": null,
            "bottom": null,
            "display": null,
            "flex": null,
            "flex_flow": null,
            "grid_area": null,
            "grid_auto_columns": null,
            "grid_auto_flow": null,
            "grid_auto_rows": null,
            "grid_column": null,
            "grid_gap": null,
            "grid_row": null,
            "grid_template_areas": null,
            "grid_template_columns": null,
            "grid_template_rows": null,
            "height": null,
            "justify_content": null,
            "justify_items": null,
            "left": null,
            "margin": null,
            "max_height": null,
            "max_width": null,
            "min_height": null,
            "min_width": null,
            "object_fit": null,
            "object_position": null,
            "order": null,
            "overflow": null,
            "overflow_x": null,
            "overflow_y": null,
            "padding": null,
            "right": null,
            "top": null,
            "visibility": null,
            "width": null
          }
        },
        "a842eaab298d49b58f17d6b55870e19a": {
          "model_module": "@jupyter-widgets/controls",
          "model_name": "DescriptionStyleModel",
          "model_module_version": "1.5.0",
          "state": {
            "_model_module": "@jupyter-widgets/controls",
            "_model_module_version": "1.5.0",
            "_model_name": "DescriptionStyleModel",
            "_view_count": null,
            "_view_module": "@jupyter-widgets/base",
            "_view_module_version": "1.2.0",
            "_view_name": "StyleView",
            "description_width": ""
          }
        },
        "5d492aae93644e66988efbdd14b99546": {
          "model_module": "@jupyter-widgets/controls",
          "model_name": "HBoxModel",
          "model_module_version": "1.5.0",
          "state": {
            "_dom_classes": [],
            "_model_module": "@jupyter-widgets/controls",
            "_model_module_version": "1.5.0",
            "_model_name": "HBoxModel",
            "_view_count": null,
            "_view_module": "@jupyter-widgets/controls",
            "_view_module_version": "1.5.0",
            "_view_name": "HBoxView",
            "box_style": "",
            "children": [
              "IPY_MODEL_0eab44a11dfe405398bce2d29a98f08b",
              "IPY_MODEL_93f88734cb2c40038e61824a6e4c84de",
              "IPY_MODEL_e803dce446074ea38fb08f14fda6b816"
            ],
            "layout": "IPY_MODEL_e8add00908d940e5bb359af075556703"
          }
        },
        "0eab44a11dfe405398bce2d29a98f08b": {
          "model_module": "@jupyter-widgets/controls",
          "model_name": "HTMLModel",
          "model_module_version": "1.5.0",
          "state": {
            "_dom_classes": [],
            "_model_module": "@jupyter-widgets/controls",
            "_model_module_version": "1.5.0",
            "_model_name": "HTMLModel",
            "_view_count": null,
            "_view_module": "@jupyter-widgets/controls",
            "_view_module_version": "1.5.0",
            "_view_name": "HTMLView",
            "description": "",
            "description_tooltip": null,
            "layout": "IPY_MODEL_6453e3de618541e7ba2885554aefac2a",
            "placeholder": "​",
            "style": "IPY_MODEL_f9c4fd92f3ae40d3a17af53a6ef3450a",
            "value": "split=val:  80%"
          }
        },
        "93f88734cb2c40038e61824a6e4c84de": {
          "model_module": "@jupyter-widgets/controls",
          "model_name": "FloatProgressModel",
          "model_module_version": "1.5.0",
          "state": {
            "_dom_classes": [],
            "_model_module": "@jupyter-widgets/controls",
            "_model_module_version": "1.5.0",
            "_model_name": "FloatProgressModel",
            "_view_count": null,
            "_view_module": "@jupyter-widgets/controls",
            "_view_module_version": "1.5.0",
            "_view_name": "ProgressView",
            "bar_style": "",
            "description": "",
            "description_tooltip": null,
            "layout": "IPY_MODEL_fa09c560c3594f07aa1b0a60b490fc72",
            "max": 5,
            "min": 0,
            "orientation": "horizontal",
            "style": "IPY_MODEL_eb4741357afb4f1dbfca83613176571c",
            "value": 4
          }
        },
        "e803dce446074ea38fb08f14fda6b816": {
          "model_module": "@jupyter-widgets/controls",
          "model_name": "HTMLModel",
          "model_module_version": "1.5.0",
          "state": {
            "_dom_classes": [],
            "_model_module": "@jupyter-widgets/controls",
            "_model_module_version": "1.5.0",
            "_model_name": "HTMLModel",
            "_view_count": null,
            "_view_module": "@jupyter-widgets/controls",
            "_view_module_version": "1.5.0",
            "_view_name": "HTMLView",
            "description": "",
            "description_tooltip": null,
            "layout": "IPY_MODEL_1ca49f8d7dfd479f80f6e81d16dc1c4b",
            "placeholder": "​",
            "style": "IPY_MODEL_3df04c9b1aa048fc9baba164d4c78df9",
            "value": " 4/5 [00:22&lt;00:00,  3.65it/s, acc=82.2, epoch=99, loss=1.6]"
          }
        },
        "e8add00908d940e5bb359af075556703": {
          "model_module": "@jupyter-widgets/base",
          "model_name": "LayoutModel",
          "model_module_version": "1.2.0",
          "state": {
            "_model_module": "@jupyter-widgets/base",
            "_model_module_version": "1.2.0",
            "_model_name": "LayoutModel",
            "_view_count": null,
            "_view_module": "@jupyter-widgets/base",
            "_view_module_version": "1.2.0",
            "_view_name": "LayoutView",
            "align_content": null,
            "align_items": null,
            "align_self": null,
            "border": null,
            "bottom": null,
            "display": null,
            "flex": null,
            "flex_flow": null,
            "grid_area": null,
            "grid_auto_columns": null,
            "grid_auto_flow": null,
            "grid_auto_rows": null,
            "grid_column": null,
            "grid_gap": null,
            "grid_row": null,
            "grid_template_areas": null,
            "grid_template_columns": null,
            "grid_template_rows": null,
            "height": null,
            "justify_content": null,
            "justify_items": null,
            "left": null,
            "margin": null,
            "max_height": null,
            "max_width": null,
            "min_height": null,
            "min_width": null,
            "object_fit": null,
            "object_position": null,
            "order": null,
            "overflow": null,
            "overflow_x": null,
            "overflow_y": null,
            "padding": null,
            "right": null,
            "top": null,
            "visibility": null,
            "width": null
          }
        },
        "6453e3de618541e7ba2885554aefac2a": {
          "model_module": "@jupyter-widgets/base",
          "model_name": "LayoutModel",
          "model_module_version": "1.2.0",
          "state": {
            "_model_module": "@jupyter-widgets/base",
            "_model_module_version": "1.2.0",
            "_model_name": "LayoutModel",
            "_view_count": null,
            "_view_module": "@jupyter-widgets/base",
            "_view_module_version": "1.2.0",
            "_view_name": "LayoutView",
            "align_content": null,
            "align_items": null,
            "align_self": null,
            "border": null,
            "bottom": null,
            "display": null,
            "flex": null,
            "flex_flow": null,
            "grid_area": null,
            "grid_auto_columns": null,
            "grid_auto_flow": null,
            "grid_auto_rows": null,
            "grid_column": null,
            "grid_gap": null,
            "grid_row": null,
            "grid_template_areas": null,
            "grid_template_columns": null,
            "grid_template_rows": null,
            "height": null,
            "justify_content": null,
            "justify_items": null,
            "left": null,
            "margin": null,
            "max_height": null,
            "max_width": null,
            "min_height": null,
            "min_width": null,
            "object_fit": null,
            "object_position": null,
            "order": null,
            "overflow": null,
            "overflow_x": null,
            "overflow_y": null,
            "padding": null,
            "right": null,
            "top": null,
            "visibility": null,
            "width": null
          }
        },
        "f9c4fd92f3ae40d3a17af53a6ef3450a": {
          "model_module": "@jupyter-widgets/controls",
          "model_name": "DescriptionStyleModel",
          "model_module_version": "1.5.0",
          "state": {
            "_model_module": "@jupyter-widgets/controls",
            "_model_module_version": "1.5.0",
            "_model_name": "DescriptionStyleModel",
            "_view_count": null,
            "_view_module": "@jupyter-widgets/base",
            "_view_module_version": "1.2.0",
            "_view_name": "StyleView",
            "description_width": ""
          }
        },
        "fa09c560c3594f07aa1b0a60b490fc72": {
          "model_module": "@jupyter-widgets/base",
          "model_name": "LayoutModel",
          "model_module_version": "1.2.0",
          "state": {
            "_model_module": "@jupyter-widgets/base",
            "_model_module_version": "1.2.0",
            "_model_name": "LayoutModel",
            "_view_count": null,
            "_view_module": "@jupyter-widgets/base",
            "_view_module_version": "1.2.0",
            "_view_name": "LayoutView",
            "align_content": null,
            "align_items": null,
            "align_self": null,
            "border": null,
            "bottom": null,
            "display": null,
            "flex": null,
            "flex_flow": null,
            "grid_area": null,
            "grid_auto_columns": null,
            "grid_auto_flow": null,
            "grid_auto_rows": null,
            "grid_column": null,
            "grid_gap": null,
            "grid_row": null,
            "grid_template_areas": null,
            "grid_template_columns": null,
            "grid_template_rows": null,
            "height": null,
            "justify_content": null,
            "justify_items": null,
            "left": null,
            "margin": null,
            "max_height": null,
            "max_width": null,
            "min_height": null,
            "min_width": null,
            "object_fit": null,
            "object_position": null,
            "order": null,
            "overflow": null,
            "overflow_x": null,
            "overflow_y": null,
            "padding": null,
            "right": null,
            "top": null,
            "visibility": null,
            "width": null
          }
        },
        "eb4741357afb4f1dbfca83613176571c": {
          "model_module": "@jupyter-widgets/controls",
          "model_name": "ProgressStyleModel",
          "model_module_version": "1.5.0",
          "state": {
            "_model_module": "@jupyter-widgets/controls",
            "_model_module_version": "1.5.0",
            "_model_name": "ProgressStyleModel",
            "_view_count": null,
            "_view_module": "@jupyter-widgets/base",
            "_view_module_version": "1.2.0",
            "_view_name": "StyleView",
            "bar_color": null,
            "description_width": ""
          }
        },
        "1ca49f8d7dfd479f80f6e81d16dc1c4b": {
          "model_module": "@jupyter-widgets/base",
          "model_name": "LayoutModel",
          "model_module_version": "1.2.0",
          "state": {
            "_model_module": "@jupyter-widgets/base",
            "_model_module_version": "1.2.0",
            "_model_name": "LayoutModel",
            "_view_count": null,
            "_view_module": "@jupyter-widgets/base",
            "_view_module_version": "1.2.0",
            "_view_name": "LayoutView",
            "align_content": null,
            "align_items": null,
            "align_self": null,
            "border": null,
            "bottom": null,
            "display": null,
            "flex": null,
            "flex_flow": null,
            "grid_area": null,
            "grid_auto_columns": null,
            "grid_auto_flow": null,
            "grid_auto_rows": null,
            "grid_column": null,
            "grid_gap": null,
            "grid_row": null,
            "grid_template_areas": null,
            "grid_template_columns": null,
            "grid_template_rows": null,
            "height": null,
            "justify_content": null,
            "justify_items": null,
            "left": null,
            "margin": null,
            "max_height": null,
            "max_width": null,
            "min_height": null,
            "min_width": null,
            "object_fit": null,
            "object_position": null,
            "order": null,
            "overflow": null,
            "overflow_x": null,
            "overflow_y": null,
            "padding": null,
            "right": null,
            "top": null,
            "visibility": null,
            "width": null
          }
        },
        "3df04c9b1aa048fc9baba164d4c78df9": {
          "model_module": "@jupyter-widgets/controls",
          "model_name": "DescriptionStyleModel",
          "model_module_version": "1.5.0",
          "state": {
            "_model_module": "@jupyter-widgets/controls",
            "_model_module_version": "1.5.0",
            "_model_name": "DescriptionStyleModel",
            "_view_count": null,
            "_view_module": "@jupyter-widgets/base",
            "_view_module_version": "1.2.0",
            "_view_name": "StyleView",
            "description_width": ""
          }
        },
        "22ecbdeae40946b8a714b669d56b9886": {
          "model_module": "@jupyter-widgets/controls",
          "model_name": "HBoxModel",
          "model_module_version": "1.5.0",
          "state": {
            "_dom_classes": [],
            "_model_module": "@jupyter-widgets/controls",
            "_model_module_version": "1.5.0",
            "_model_name": "HBoxModel",
            "_view_count": null,
            "_view_module": "@jupyter-widgets/controls",
            "_view_module_version": "1.5.0",
            "_view_name": "HBoxView",
            "box_style": "",
            "children": [
              "IPY_MODEL_e22b7581a08946a88011c30b8d66c8ea",
              "IPY_MODEL_37cdee0204484b0f913b3e31c41f922d",
              "IPY_MODEL_e515f5ff7bea4c18b7acc9a8ef46a215"
            ],
            "layout": "IPY_MODEL_f4a57e377bac4918b6827044d1b4af51"
          }
        },
        "e22b7581a08946a88011c30b8d66c8ea": {
          "model_module": "@jupyter-widgets/controls",
          "model_name": "HTMLModel",
          "model_module_version": "1.5.0",
          "state": {
            "_dom_classes": [],
            "_model_module": "@jupyter-widgets/controls",
            "_model_module_version": "1.5.0",
            "_model_name": "HTMLModel",
            "_view_count": null,
            "_view_module": "@jupyter-widgets/controls",
            "_view_module_version": "1.5.0",
            "_view_name": "HTMLView",
            "description": "",
            "description_tooltip": null,
            "layout": "IPY_MODEL_7ae35d963e884b68a288976f078442c7",
            "placeholder": "​",
            "style": "IPY_MODEL_c444871ebdeb4ae2a67a529e1e061849",
            "value": "training routine: "
          }
        },
        "37cdee0204484b0f913b3e31c41f922d": {
          "model_module": "@jupyter-widgets/controls",
          "model_name": "FloatProgressModel",
          "model_module_version": "1.5.0",
          "state": {
            "_dom_classes": [],
            "_model_module": "@jupyter-widgets/controls",
            "_model_module_version": "1.5.0",
            "_model_name": "FloatProgressModel",
            "_view_count": null,
            "_view_module": "@jupyter-widgets/controls",
            "_view_module_version": "1.5.0",
            "_view_name": "ProgressView",
            "bar_style": "",
            "description": "",
            "description_tooltip": null,
            "layout": "IPY_MODEL_69074d2adfc34f779f14e5359edac2c1",
            "max": 100,
            "min": 0,
            "orientation": "horizontal",
            "style": "IPY_MODEL_2d7d07702904405d848c1a317fa56bbd",
            "value": 100
          }
        },
        "e515f5ff7bea4c18b7acc9a8ef46a215": {
          "model_module": "@jupyter-widgets/controls",
          "model_name": "HTMLModel",
          "model_module_version": "1.5.0",
          "state": {
            "_dom_classes": [],
            "_model_module": "@jupyter-widgets/controls",
            "_model_module_version": "1.5.0",
            "_model_name": "HTMLModel",
            "_view_count": null,
            "_view_module": "@jupyter-widgets/controls",
            "_view_module_version": "1.5.0",
            "_view_name": "HTMLView",
            "description": "",
            "description_tooltip": null,
            "layout": "IPY_MODEL_2b66bb8156e04263b9b308c886a3a0a7",
            "placeholder": "​",
            "style": "IPY_MODEL_d18a8cc37c21426f85e677ca92f9bf9c",
            "value": " 199/? [00:22&lt;00:00,  9.03it/s]"
          }
        },
        "f4a57e377bac4918b6827044d1b4af51": {
          "model_module": "@jupyter-widgets/base",
          "model_name": "LayoutModel",
          "model_module_version": "1.2.0",
          "state": {
            "_model_module": "@jupyter-widgets/base",
            "_model_module_version": "1.2.0",
            "_model_name": "LayoutModel",
            "_view_count": null,
            "_view_module": "@jupyter-widgets/base",
            "_view_module_version": "1.2.0",
            "_view_name": "LayoutView",
            "align_content": null,
            "align_items": null,
            "align_self": null,
            "border": null,
            "bottom": null,
            "display": null,
            "flex": null,
            "flex_flow": null,
            "grid_area": null,
            "grid_auto_columns": null,
            "grid_auto_flow": null,
            "grid_auto_rows": null,
            "grid_column": null,
            "grid_gap": null,
            "grid_row": null,
            "grid_template_areas": null,
            "grid_template_columns": null,
            "grid_template_rows": null,
            "height": null,
            "justify_content": null,
            "justify_items": null,
            "left": null,
            "margin": null,
            "max_height": null,
            "max_width": null,
            "min_height": null,
            "min_width": null,
            "object_fit": null,
            "object_position": null,
            "order": null,
            "overflow": null,
            "overflow_x": null,
            "overflow_y": null,
            "padding": null,
            "right": null,
            "top": null,
            "visibility": null,
            "width": null
          }
        },
        "7ae35d963e884b68a288976f078442c7": {
          "model_module": "@jupyter-widgets/base",
          "model_name": "LayoutModel",
          "model_module_version": "1.2.0",
          "state": {
            "_model_module": "@jupyter-widgets/base",
            "_model_module_version": "1.2.0",
            "_model_name": "LayoutModel",
            "_view_count": null,
            "_view_module": "@jupyter-widgets/base",
            "_view_module_version": "1.2.0",
            "_view_name": "LayoutView",
            "align_content": null,
            "align_items": null,
            "align_self": null,
            "border": null,
            "bottom": null,
            "display": null,
            "flex": null,
            "flex_flow": null,
            "grid_area": null,
            "grid_auto_columns": null,
            "grid_auto_flow": null,
            "grid_auto_rows": null,
            "grid_column": null,
            "grid_gap": null,
            "grid_row": null,
            "grid_template_areas": null,
            "grid_template_columns": null,
            "grid_template_rows": null,
            "height": null,
            "justify_content": null,
            "justify_items": null,
            "left": null,
            "margin": null,
            "max_height": null,
            "max_width": null,
            "min_height": null,
            "min_width": null,
            "object_fit": null,
            "object_position": null,
            "order": null,
            "overflow": null,
            "overflow_x": null,
            "overflow_y": null,
            "padding": null,
            "right": null,
            "top": null,
            "visibility": null,
            "width": null
          }
        },
        "c444871ebdeb4ae2a67a529e1e061849": {
          "model_module": "@jupyter-widgets/controls",
          "model_name": "DescriptionStyleModel",
          "model_module_version": "1.5.0",
          "state": {
            "_model_module": "@jupyter-widgets/controls",
            "_model_module_version": "1.5.0",
            "_model_name": "DescriptionStyleModel",
            "_view_count": null,
            "_view_module": "@jupyter-widgets/base",
            "_view_module_version": "1.2.0",
            "_view_name": "StyleView",
            "description_width": ""
          }
        },
        "69074d2adfc34f779f14e5359edac2c1": {
          "model_module": "@jupyter-widgets/base",
          "model_name": "LayoutModel",
          "model_module_version": "1.2.0",
          "state": {
            "_model_module": "@jupyter-widgets/base",
            "_model_module_version": "1.2.0",
            "_model_name": "LayoutModel",
            "_view_count": null,
            "_view_module": "@jupyter-widgets/base",
            "_view_module_version": "1.2.0",
            "_view_name": "LayoutView",
            "align_content": null,
            "align_items": null,
            "align_self": null,
            "border": null,
            "bottom": null,
            "display": null,
            "flex": null,
            "flex_flow": null,
            "grid_area": null,
            "grid_auto_columns": null,
            "grid_auto_flow": null,
            "grid_auto_rows": null,
            "grid_column": null,
            "grid_gap": null,
            "grid_row": null,
            "grid_template_areas": null,
            "grid_template_columns": null,
            "grid_template_rows": null,
            "height": null,
            "justify_content": null,
            "justify_items": null,
            "left": null,
            "margin": null,
            "max_height": null,
            "max_width": null,
            "min_height": null,
            "min_width": null,
            "object_fit": null,
            "object_position": null,
            "order": null,
            "overflow": null,
            "overflow_x": null,
            "overflow_y": null,
            "padding": null,
            "right": null,
            "top": null,
            "visibility": null,
            "width": null
          }
        },
        "2d7d07702904405d848c1a317fa56bbd": {
          "model_module": "@jupyter-widgets/controls",
          "model_name": "ProgressStyleModel",
          "model_module_version": "1.5.0",
          "state": {
            "_model_module": "@jupyter-widgets/controls",
            "_model_module_version": "1.5.0",
            "_model_name": "ProgressStyleModel",
            "_view_count": null,
            "_view_module": "@jupyter-widgets/base",
            "_view_module_version": "1.2.0",
            "_view_name": "StyleView",
            "bar_color": null,
            "description_width": ""
          }
        },
        "2b66bb8156e04263b9b308c886a3a0a7": {
          "model_module": "@jupyter-widgets/base",
          "model_name": "LayoutModel",
          "model_module_version": "1.2.0",
          "state": {
            "_model_module": "@jupyter-widgets/base",
            "_model_module_version": "1.2.0",
            "_model_name": "LayoutModel",
            "_view_count": null,
            "_view_module": "@jupyter-widgets/base",
            "_view_module_version": "1.2.0",
            "_view_name": "LayoutView",
            "align_content": null,
            "align_items": null,
            "align_self": null,
            "border": null,
            "bottom": null,
            "display": null,
            "flex": null,
            "flex_flow": null,
            "grid_area": null,
            "grid_auto_columns": null,
            "grid_auto_flow": null,
            "grid_auto_rows": null,
            "grid_column": null,
            "grid_gap": null,
            "grid_row": null,
            "grid_template_areas": null,
            "grid_template_columns": null,
            "grid_template_rows": null,
            "height": null,
            "justify_content": null,
            "justify_items": null,
            "left": null,
            "margin": null,
            "max_height": null,
            "max_width": null,
            "min_height": null,
            "min_width": null,
            "object_fit": null,
            "object_position": null,
            "order": null,
            "overflow": null,
            "overflow_x": null,
            "overflow_y": null,
            "padding": null,
            "right": null,
            "top": null,
            "visibility": null,
            "width": null
          }
        },
        "d18a8cc37c21426f85e677ca92f9bf9c": {
          "model_module": "@jupyter-widgets/controls",
          "model_name": "DescriptionStyleModel",
          "model_module_version": "1.5.0",
          "state": {
            "_model_module": "@jupyter-widgets/controls",
            "_model_module_version": "1.5.0",
            "_model_name": "DescriptionStyleModel",
            "_view_count": null,
            "_view_module": "@jupyter-widgets/base",
            "_view_module_version": "1.2.0",
            "_view_name": "StyleView",
            "description_width": ""
          }
        },
        "dc2bf8abd6d14d7196011750463834b5": {
          "model_module": "@jupyter-widgets/controls",
          "model_name": "HBoxModel",
          "model_module_version": "1.5.0",
          "state": {
            "_dom_classes": [],
            "_model_module": "@jupyter-widgets/controls",
            "_model_module_version": "1.5.0",
            "_model_name": "HBoxModel",
            "_view_count": null,
            "_view_module": "@jupyter-widgets/controls",
            "_view_module_version": "1.5.0",
            "_view_name": "HBoxView",
            "box_style": "",
            "children": [
              "IPY_MODEL_6c1d001a0106428194591e3c629dbaf7",
              "IPY_MODEL_9d9c04c68ec94a718f6b2e81dafa828e",
              "IPY_MODEL_af41d9adeecd467fa17a9fe392f2f8d1"
            ],
            "layout": "IPY_MODEL_616ad7f078d94a418c70a6eaceb12f9e"
          }
        },
        "6c1d001a0106428194591e3c629dbaf7": {
          "model_module": "@jupyter-widgets/controls",
          "model_name": "HTMLModel",
          "model_module_version": "1.5.0",
          "state": {
            "_dom_classes": [],
            "_model_module": "@jupyter-widgets/controls",
            "_model_module_version": "1.5.0",
            "_model_name": "HTMLModel",
            "_view_count": null,
            "_view_module": "@jupyter-widgets/controls",
            "_view_module_version": "1.5.0",
            "_view_name": "HTMLView",
            "description": "",
            "description_tooltip": null,
            "layout": "IPY_MODEL_e78415e70e0248098e9ba07570b3e3c4",
            "placeholder": "​",
            "style": "IPY_MODEL_1ed11d44810742e9b6477277e61f042e",
            "value": "split=train:  80%"
          }
        },
        "9d9c04c68ec94a718f6b2e81dafa828e": {
          "model_module": "@jupyter-widgets/controls",
          "model_name": "FloatProgressModel",
          "model_module_version": "1.5.0",
          "state": {
            "_dom_classes": [],
            "_model_module": "@jupyter-widgets/controls",
            "_model_module_version": "1.5.0",
            "_model_name": "FloatProgressModel",
            "_view_count": null,
            "_view_module": "@jupyter-widgets/controls",
            "_view_module_version": "1.5.0",
            "_view_name": "ProgressView",
            "bar_style": "",
            "description": "",
            "description_tooltip": null,
            "layout": "IPY_MODEL_84639dcc80c84aa38bcc607bae513877",
            "max": 5,
            "min": 0,
            "orientation": "horizontal",
            "style": "IPY_MODEL_4567082f2546472398255d974653defe",
            "value": 4
          }
        },
        "af41d9adeecd467fa17a9fe392f2f8d1": {
          "model_module": "@jupyter-widgets/controls",
          "model_name": "HTMLModel",
          "model_module_version": "1.5.0",
          "state": {
            "_dom_classes": [],
            "_model_module": "@jupyter-widgets/controls",
            "_model_module_version": "1.5.0",
            "_model_name": "HTMLModel",
            "_view_count": null,
            "_view_module": "@jupyter-widgets/controls",
            "_view_module_version": "1.5.0",
            "_view_name": "HTMLView",
            "description": "",
            "description_tooltip": null,
            "layout": "IPY_MODEL_93dcbe9a206a453aa31e4d6f5946b0f8",
            "placeholder": "​",
            "style": "IPY_MODEL_15c5c8611b0542eb97039667fd364c14",
            "value": " 4/5 [00:22&lt;00:05,  5.30s/it, acc=95.5, epoch=99, loss=1.24]"
          }
        },
        "616ad7f078d94a418c70a6eaceb12f9e": {
          "model_module": "@jupyter-widgets/base",
          "model_name": "LayoutModel",
          "model_module_version": "1.2.0",
          "state": {
            "_model_module": "@jupyter-widgets/base",
            "_model_module_version": "1.2.0",
            "_model_name": "LayoutModel",
            "_view_count": null,
            "_view_module": "@jupyter-widgets/base",
            "_view_module_version": "1.2.0",
            "_view_name": "LayoutView",
            "align_content": null,
            "align_items": null,
            "align_self": null,
            "border": null,
            "bottom": null,
            "display": null,
            "flex": null,
            "flex_flow": null,
            "grid_area": null,
            "grid_auto_columns": null,
            "grid_auto_flow": null,
            "grid_auto_rows": null,
            "grid_column": null,
            "grid_gap": null,
            "grid_row": null,
            "grid_template_areas": null,
            "grid_template_columns": null,
            "grid_template_rows": null,
            "height": null,
            "justify_content": null,
            "justify_items": null,
            "left": null,
            "margin": null,
            "max_height": null,
            "max_width": null,
            "min_height": null,
            "min_width": null,
            "object_fit": null,
            "object_position": null,
            "order": null,
            "overflow": null,
            "overflow_x": null,
            "overflow_y": null,
            "padding": null,
            "right": null,
            "top": null,
            "visibility": null,
            "width": null
          }
        },
        "e78415e70e0248098e9ba07570b3e3c4": {
          "model_module": "@jupyter-widgets/base",
          "model_name": "LayoutModel",
          "model_module_version": "1.2.0",
          "state": {
            "_model_module": "@jupyter-widgets/base",
            "_model_module_version": "1.2.0",
            "_model_name": "LayoutModel",
            "_view_count": null,
            "_view_module": "@jupyter-widgets/base",
            "_view_module_version": "1.2.0",
            "_view_name": "LayoutView",
            "align_content": null,
            "align_items": null,
            "align_self": null,
            "border": null,
            "bottom": null,
            "display": null,
            "flex": null,
            "flex_flow": null,
            "grid_area": null,
            "grid_auto_columns": null,
            "grid_auto_flow": null,
            "grid_auto_rows": null,
            "grid_column": null,
            "grid_gap": null,
            "grid_row": null,
            "grid_template_areas": null,
            "grid_template_columns": null,
            "grid_template_rows": null,
            "height": null,
            "justify_content": null,
            "justify_items": null,
            "left": null,
            "margin": null,
            "max_height": null,
            "max_width": null,
            "min_height": null,
            "min_width": null,
            "object_fit": null,
            "object_position": null,
            "order": null,
            "overflow": null,
            "overflow_x": null,
            "overflow_y": null,
            "padding": null,
            "right": null,
            "top": null,
            "visibility": null,
            "width": null
          }
        },
        "1ed11d44810742e9b6477277e61f042e": {
          "model_module": "@jupyter-widgets/controls",
          "model_name": "DescriptionStyleModel",
          "model_module_version": "1.5.0",
          "state": {
            "_model_module": "@jupyter-widgets/controls",
            "_model_module_version": "1.5.0",
            "_model_name": "DescriptionStyleModel",
            "_view_count": null,
            "_view_module": "@jupyter-widgets/base",
            "_view_module_version": "1.2.0",
            "_view_name": "StyleView",
            "description_width": ""
          }
        },
        "84639dcc80c84aa38bcc607bae513877": {
          "model_module": "@jupyter-widgets/base",
          "model_name": "LayoutModel",
          "model_module_version": "1.2.0",
          "state": {
            "_model_module": "@jupyter-widgets/base",
            "_model_module_version": "1.2.0",
            "_model_name": "LayoutModel",
            "_view_count": null,
            "_view_module": "@jupyter-widgets/base",
            "_view_module_version": "1.2.0",
            "_view_name": "LayoutView",
            "align_content": null,
            "align_items": null,
            "align_self": null,
            "border": null,
            "bottom": null,
            "display": null,
            "flex": null,
            "flex_flow": null,
            "grid_area": null,
            "grid_auto_columns": null,
            "grid_auto_flow": null,
            "grid_auto_rows": null,
            "grid_column": null,
            "grid_gap": null,
            "grid_row": null,
            "grid_template_areas": null,
            "grid_template_columns": null,
            "grid_template_rows": null,
            "height": null,
            "justify_content": null,
            "justify_items": null,
            "left": null,
            "margin": null,
            "max_height": null,
            "max_width": null,
            "min_height": null,
            "min_width": null,
            "object_fit": null,
            "object_position": null,
            "order": null,
            "overflow": null,
            "overflow_x": null,
            "overflow_y": null,
            "padding": null,
            "right": null,
            "top": null,
            "visibility": null,
            "width": null
          }
        },
        "4567082f2546472398255d974653defe": {
          "model_module": "@jupyter-widgets/controls",
          "model_name": "ProgressStyleModel",
          "model_module_version": "1.5.0",
          "state": {
            "_model_module": "@jupyter-widgets/controls",
            "_model_module_version": "1.5.0",
            "_model_name": "ProgressStyleModel",
            "_view_count": null,
            "_view_module": "@jupyter-widgets/base",
            "_view_module_version": "1.2.0",
            "_view_name": "StyleView",
            "bar_color": null,
            "description_width": ""
          }
        },
        "93dcbe9a206a453aa31e4d6f5946b0f8": {
          "model_module": "@jupyter-widgets/base",
          "model_name": "LayoutModel",
          "model_module_version": "1.2.0",
          "state": {
            "_model_module": "@jupyter-widgets/base",
            "_model_module_version": "1.2.0",
            "_model_name": "LayoutModel",
            "_view_count": null,
            "_view_module": "@jupyter-widgets/base",
            "_view_module_version": "1.2.0",
            "_view_name": "LayoutView",
            "align_content": null,
            "align_items": null,
            "align_self": null,
            "border": null,
            "bottom": null,
            "display": null,
            "flex": null,
            "flex_flow": null,
            "grid_area": null,
            "grid_auto_columns": null,
            "grid_auto_flow": null,
            "grid_auto_rows": null,
            "grid_column": null,
            "grid_gap": null,
            "grid_row": null,
            "grid_template_areas": null,
            "grid_template_columns": null,
            "grid_template_rows": null,
            "height": null,
            "justify_content": null,
            "justify_items": null,
            "left": null,
            "margin": null,
            "max_height": null,
            "max_width": null,
            "min_height": null,
            "min_width": null,
            "object_fit": null,
            "object_position": null,
            "order": null,
            "overflow": null,
            "overflow_x": null,
            "overflow_y": null,
            "padding": null,
            "right": null,
            "top": null,
            "visibility": null,
            "width": null
          }
        },
        "15c5c8611b0542eb97039667fd364c14": {
          "model_module": "@jupyter-widgets/controls",
          "model_name": "DescriptionStyleModel",
          "model_module_version": "1.5.0",
          "state": {
            "_model_module": "@jupyter-widgets/controls",
            "_model_module_version": "1.5.0",
            "_model_name": "DescriptionStyleModel",
            "_view_count": null,
            "_view_module": "@jupyter-widgets/base",
            "_view_module_version": "1.2.0",
            "_view_name": "StyleView",
            "description_width": ""
          }
        },
        "e9a49464a3da42489a3bc0d11bff40ea": {
          "model_module": "@jupyter-widgets/controls",
          "model_name": "HBoxModel",
          "model_module_version": "1.5.0",
          "state": {
            "_dom_classes": [],
            "_model_module": "@jupyter-widgets/controls",
            "_model_module_version": "1.5.0",
            "_model_name": "HBoxModel",
            "_view_count": null,
            "_view_module": "@jupyter-widgets/controls",
            "_view_module_version": "1.5.0",
            "_view_name": "HBoxView",
            "box_style": "",
            "children": [
              "IPY_MODEL_e3f2b6c53dc34f0fa3cd53cc38e8b8f7",
              "IPY_MODEL_52c0dd4420794be6bfdad17948a0c073",
              "IPY_MODEL_7b4dbd8130314974a624d98c9195c659"
            ],
            "layout": "IPY_MODEL_3b7831f931b04ffeb7baeb43361d23a0"
          }
        },
        "e3f2b6c53dc34f0fa3cd53cc38e8b8f7": {
          "model_module": "@jupyter-widgets/controls",
          "model_name": "HTMLModel",
          "model_module_version": "1.5.0",
          "state": {
            "_dom_classes": [],
            "_model_module": "@jupyter-widgets/controls",
            "_model_module_version": "1.5.0",
            "_model_name": "HTMLModel",
            "_view_count": null,
            "_view_module": "@jupyter-widgets/controls",
            "_view_module_version": "1.5.0",
            "_view_name": "HTMLView",
            "description": "",
            "description_tooltip": null,
            "layout": "IPY_MODEL_1cbe23c1bd6149f2a196f472ad741a7a",
            "placeholder": "​",
            "style": "IPY_MODEL_754826f472b943a3932c89afab3456e6",
            "value": "split=val:  80%"
          }
        },
        "52c0dd4420794be6bfdad17948a0c073": {
          "model_module": "@jupyter-widgets/controls",
          "model_name": "FloatProgressModel",
          "model_module_version": "1.5.0",
          "state": {
            "_dom_classes": [],
            "_model_module": "@jupyter-widgets/controls",
            "_model_module_version": "1.5.0",
            "_model_name": "FloatProgressModel",
            "_view_count": null,
            "_view_module": "@jupyter-widgets/controls",
            "_view_module_version": "1.5.0",
            "_view_name": "ProgressView",
            "bar_style": "",
            "description": "",
            "description_tooltip": null,
            "layout": "IPY_MODEL_54c93c97aac3498e9551c08e04b1dcce",
            "max": 5,
            "min": 0,
            "orientation": "horizontal",
            "style": "IPY_MODEL_57cee6d40e7e40d3b4a5ee66fb3aee5c",
            "value": 4
          }
        },
        "7b4dbd8130314974a624d98c9195c659": {
          "model_module": "@jupyter-widgets/controls",
          "model_name": "HTMLModel",
          "model_module_version": "1.5.0",
          "state": {
            "_dom_classes": [],
            "_model_module": "@jupyter-widgets/controls",
            "_model_module_version": "1.5.0",
            "_model_name": "HTMLModel",
            "_view_count": null,
            "_view_module": "@jupyter-widgets/controls",
            "_view_module_version": "1.5.0",
            "_view_name": "HTMLView",
            "description": "",
            "description_tooltip": null,
            "layout": "IPY_MODEL_9e3e5a1c481c49db9be81c63a3ca38d6",
            "placeholder": "​",
            "style": "IPY_MODEL_6c8335fc06ab408899bb084aa85225dc",
            "value": " 4/5 [00:22&lt;00:00,  4.19it/s, acc=89.4, epoch=99, loss=1.31]"
          }
        },
        "3b7831f931b04ffeb7baeb43361d23a0": {
          "model_module": "@jupyter-widgets/base",
          "model_name": "LayoutModel",
          "model_module_version": "1.2.0",
          "state": {
            "_model_module": "@jupyter-widgets/base",
            "_model_module_version": "1.2.0",
            "_model_name": "LayoutModel",
            "_view_count": null,
            "_view_module": "@jupyter-widgets/base",
            "_view_module_version": "1.2.0",
            "_view_name": "LayoutView",
            "align_content": null,
            "align_items": null,
            "align_self": null,
            "border": null,
            "bottom": null,
            "display": null,
            "flex": null,
            "flex_flow": null,
            "grid_area": null,
            "grid_auto_columns": null,
            "grid_auto_flow": null,
            "grid_auto_rows": null,
            "grid_column": null,
            "grid_gap": null,
            "grid_row": null,
            "grid_template_areas": null,
            "grid_template_columns": null,
            "grid_template_rows": null,
            "height": null,
            "justify_content": null,
            "justify_items": null,
            "left": null,
            "margin": null,
            "max_height": null,
            "max_width": null,
            "min_height": null,
            "min_width": null,
            "object_fit": null,
            "object_position": null,
            "order": null,
            "overflow": null,
            "overflow_x": null,
            "overflow_y": null,
            "padding": null,
            "right": null,
            "top": null,
            "visibility": null,
            "width": null
          }
        },
        "1cbe23c1bd6149f2a196f472ad741a7a": {
          "model_module": "@jupyter-widgets/base",
          "model_name": "LayoutModel",
          "model_module_version": "1.2.0",
          "state": {
            "_model_module": "@jupyter-widgets/base",
            "_model_module_version": "1.2.0",
            "_model_name": "LayoutModel",
            "_view_count": null,
            "_view_module": "@jupyter-widgets/base",
            "_view_module_version": "1.2.0",
            "_view_name": "LayoutView",
            "align_content": null,
            "align_items": null,
            "align_self": null,
            "border": null,
            "bottom": null,
            "display": null,
            "flex": null,
            "flex_flow": null,
            "grid_area": null,
            "grid_auto_columns": null,
            "grid_auto_flow": null,
            "grid_auto_rows": null,
            "grid_column": null,
            "grid_gap": null,
            "grid_row": null,
            "grid_template_areas": null,
            "grid_template_columns": null,
            "grid_template_rows": null,
            "height": null,
            "justify_content": null,
            "justify_items": null,
            "left": null,
            "margin": null,
            "max_height": null,
            "max_width": null,
            "min_height": null,
            "min_width": null,
            "object_fit": null,
            "object_position": null,
            "order": null,
            "overflow": null,
            "overflow_x": null,
            "overflow_y": null,
            "padding": null,
            "right": null,
            "top": null,
            "visibility": null,
            "width": null
          }
        },
        "754826f472b943a3932c89afab3456e6": {
          "model_module": "@jupyter-widgets/controls",
          "model_name": "DescriptionStyleModel",
          "model_module_version": "1.5.0",
          "state": {
            "_model_module": "@jupyter-widgets/controls",
            "_model_module_version": "1.5.0",
            "_model_name": "DescriptionStyleModel",
            "_view_count": null,
            "_view_module": "@jupyter-widgets/base",
            "_view_module_version": "1.2.0",
            "_view_name": "StyleView",
            "description_width": ""
          }
        },
        "54c93c97aac3498e9551c08e04b1dcce": {
          "model_module": "@jupyter-widgets/base",
          "model_name": "LayoutModel",
          "model_module_version": "1.2.0",
          "state": {
            "_model_module": "@jupyter-widgets/base",
            "_model_module_version": "1.2.0",
            "_model_name": "LayoutModel",
            "_view_count": null,
            "_view_module": "@jupyter-widgets/base",
            "_view_module_version": "1.2.0",
            "_view_name": "LayoutView",
            "align_content": null,
            "align_items": null,
            "align_self": null,
            "border": null,
            "bottom": null,
            "display": null,
            "flex": null,
            "flex_flow": null,
            "grid_area": null,
            "grid_auto_columns": null,
            "grid_auto_flow": null,
            "grid_auto_rows": null,
            "grid_column": null,
            "grid_gap": null,
            "grid_row": null,
            "grid_template_areas": null,
            "grid_template_columns": null,
            "grid_template_rows": null,
            "height": null,
            "justify_content": null,
            "justify_items": null,
            "left": null,
            "margin": null,
            "max_height": null,
            "max_width": null,
            "min_height": null,
            "min_width": null,
            "object_fit": null,
            "object_position": null,
            "order": null,
            "overflow": null,
            "overflow_x": null,
            "overflow_y": null,
            "padding": null,
            "right": null,
            "top": null,
            "visibility": null,
            "width": null
          }
        },
        "57cee6d40e7e40d3b4a5ee66fb3aee5c": {
          "model_module": "@jupyter-widgets/controls",
          "model_name": "ProgressStyleModel",
          "model_module_version": "1.5.0",
          "state": {
            "_model_module": "@jupyter-widgets/controls",
            "_model_module_version": "1.5.0",
            "_model_name": "ProgressStyleModel",
            "_view_count": null,
            "_view_module": "@jupyter-widgets/base",
            "_view_module_version": "1.2.0",
            "_view_name": "StyleView",
            "bar_color": null,
            "description_width": ""
          }
        },
        "9e3e5a1c481c49db9be81c63a3ca38d6": {
          "model_module": "@jupyter-widgets/base",
          "model_name": "LayoutModel",
          "model_module_version": "1.2.0",
          "state": {
            "_model_module": "@jupyter-widgets/base",
            "_model_module_version": "1.2.0",
            "_model_name": "LayoutModel",
            "_view_count": null,
            "_view_module": "@jupyter-widgets/base",
            "_view_module_version": "1.2.0",
            "_view_name": "LayoutView",
            "align_content": null,
            "align_items": null,
            "align_self": null,
            "border": null,
            "bottom": null,
            "display": null,
            "flex": null,
            "flex_flow": null,
            "grid_area": null,
            "grid_auto_columns": null,
            "grid_auto_flow": null,
            "grid_auto_rows": null,
            "grid_column": null,
            "grid_gap": null,
            "grid_row": null,
            "grid_template_areas": null,
            "grid_template_columns": null,
            "grid_template_rows": null,
            "height": null,
            "justify_content": null,
            "justify_items": null,
            "left": null,
            "margin": null,
            "max_height": null,
            "max_width": null,
            "min_height": null,
            "min_width": null,
            "object_fit": null,
            "object_position": null,
            "order": null,
            "overflow": null,
            "overflow_x": null,
            "overflow_y": null,
            "padding": null,
            "right": null,
            "top": null,
            "visibility": null,
            "width": null
          }
        },
        "6c8335fc06ab408899bb084aa85225dc": {
          "model_module": "@jupyter-widgets/controls",
          "model_name": "DescriptionStyleModel",
          "model_module_version": "1.5.0",
          "state": {
            "_model_module": "@jupyter-widgets/controls",
            "_model_module_version": "1.5.0",
            "_model_name": "DescriptionStyleModel",
            "_view_count": null,
            "_view_module": "@jupyter-widgets/base",
            "_view_module_version": "1.2.0",
            "_view_name": "StyleView",
            "description_width": ""
          }
        }
      }
    }
  },
  "nbformat": 4,
  "nbformat_minor": 0
}